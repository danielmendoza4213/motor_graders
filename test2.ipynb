{
 "metadata": {
  "language_info": {
   "codemirror_mode": {
    "name": "ipython",
    "version": 3
   },
   "file_extension": ".py",
   "mimetype": "text/x-python",
   "name": "python",
   "nbconvert_exporter": "python",
   "pygments_lexer": "ipython3",
   "version": "3.8.5-final"
  },
  "orig_nbformat": 2,
  "kernelspec": {
   "name": "python3",
   "display_name": "Python 3.8.5 64-bit (conda)",
   "metadata": {
    "interpreter": {
     "hash": "13427881f06f13311079f5221e5dd632fdf9146891f6da22d47a93dcb9272d3a"
    }
   }
  }
 },
 "nbformat": 4,
 "nbformat_minor": 2,
 "cells": [
  {
   "cell_type": "code",
   "execution_count": 3,
   "metadata": {},
   "outputs": [],
   "source": [
    "import pandas as pd\n",
    "from sklearn.model_selection import train_test_split\n",
    "from sklearn.neighbors import KNeighborsClassifier\n",
    "from sklearn.svm import SVC\n",
    "from sklearn.tree import DecisionTreeClassifier\n",
    "from sklearn.ensemble import RandomForestClassifier, AdaBoostClassifier\n",
    "from sklearn.naive_bayes import GaussianNB\n",
    "from sklearn.discriminant_analysis import QuadraticDiscriminantAnalysis"
   ]
  },
  {
   "cell_type": "code",
   "execution_count": 20,
   "metadata": {},
   "outputs": [],
   "source": [
    "col_names = ['croma_min', 'croma_max', 'croma_mean', 'croma_std','melspec_min', 'melspec_max', 'melspec_mean', 'melspec_std','mfcc_min', 'mfcc_max', 'mfcc_mean', 'mfcc_std','centroid_min', 'centroid_max', 'centroid_mean', 'centroid_std','onset_count','ampl_min', 'ampl_max', 'ampl_mean', 'ampl_std','rms_min', 'rms_max', 'rms_mean', 'rms_std','zcr_min', 'zcr_max', 'zcr_mean', 'zcr_std']\r\n",
    "col_names_t=['target']"
   ]
  },
  {
   "cell_type": "code",
   "execution_count": 58,
   "metadata": {},
   "outputs": [],
   "source": [
    "df_fan_features = pd.read_csv('Features\\df_fan_feature.csv', names=col_names)\n",
    "df_fan_target = pd.read_csv('Features\\df_fan_target.csv', names=col_names_t)\n",
    "df_pump_features = pd.read_csv('Features\\df_pump_feature.csv', names=col_names)\n",
    "df_pump_target = pd.read_csv('Features\\df_pump_target.csv', names=col_names_t)\n",
    "df_slider_features = pd.read_csv('Features\\df_slider_feature.csv', names=col_names)\n",
    "df_slider_target = pd.read_csv('Features\\df_slider_target.csv', names=col_names_t)\n",
    "df_valve_features = pd.read_csv('Features\\df_valve_feature.csv', names=col_names)\n",
    "df_valve_target = pd.read_csv('Features\\df_valve_target.csv', names=col_names_t)"
   ]
  },
  {
   "cell_type": "code",
   "execution_count": 59,
   "metadata": {},
   "outputs": [],
   "source": [
    "X_train, X_test, y_train, y_test = train_test_split(\n",
    "    df_fan_features, \n",
    "    df_fan_target.target, \n",
    "    test_size=0.2, \n",
    "    random_state=69\n",
    ")"
   ]
  },
  {
   "cell_type": "code",
   "execution_count": null,
   "metadata": {},
   "outputs": [],
   "source": [
    "## "
   ]
  },
  {
   "cell_type": "code",
   "execution_count": 60,
   "metadata": {},
   "outputs": [
    {
     "output_type": "execute_result",
     "data": {
      "text/plain": [
       "                      Classifier Accuracy Score\n",
       "4         RandomForestClassifier         93.91%\n",
       "3         DecisionTreeClassifier         89.82%\n",
       "5             AdaBoostClassifier         84.63%\n",
       "7  QuadraticDiscriminantAnalysis         79.47%\n",
       "1                            SVC         75.47%\n",
       "6                     GaussianNB         74.15%\n",
       "2                 SVC RBF kernel         74.06%\n",
       "0           KNeighborsClassifier         73.16%"
      ],
      "text/html": "<div>\n<style scoped>\n    .dataframe tbody tr th:only-of-type {\n        vertical-align: middle;\n    }\n\n    .dataframe tbody tr th {\n        vertical-align: top;\n    }\n\n    .dataframe thead th {\n        text-align: right;\n    }\n</style>\n<table border=\"1\" class=\"dataframe\">\n  <thead>\n    <tr style=\"text-align: right;\">\n      <th></th>\n      <th>Classifier</th>\n      <th>Accuracy Score</th>\n    </tr>\n  </thead>\n  <tbody>\n    <tr>\n      <th>4</th>\n      <td>RandomForestClassifier</td>\n      <td>93.91%</td>\n    </tr>\n    <tr>\n      <th>3</th>\n      <td>DecisionTreeClassifier</td>\n      <td>89.82%</td>\n    </tr>\n    <tr>\n      <th>5</th>\n      <td>AdaBoostClassifier</td>\n      <td>84.63%</td>\n    </tr>\n    <tr>\n      <th>7</th>\n      <td>QuadraticDiscriminantAnalysis</td>\n      <td>79.47%</td>\n    </tr>\n    <tr>\n      <th>1</th>\n      <td>SVC</td>\n      <td>75.47%</td>\n    </tr>\n    <tr>\n      <th>6</th>\n      <td>GaussianNB</td>\n      <td>74.15%</td>\n    </tr>\n    <tr>\n      <th>2</th>\n      <td>SVC RBF kernel</td>\n      <td>74.06%</td>\n    </tr>\n    <tr>\n      <th>0</th>\n      <td>KNeighborsClassifier</td>\n      <td>73.16%</td>\n    </tr>\n  </tbody>\n</table>\n</div>"
     },
     "metadata": {},
     "execution_count": 60
    }
   ],
   "source": [
    "classification_models = [\n",
    "    KNeighborsClassifier(),#(3),\n",
    "    SVC(kernel='linear'),#, C=0.025),\n",
    "    SVC(kernel='rbf'),\n",
    "    DecisionTreeClassifier(),#max_depth=5),\n",
    "    RandomForestClassifier(),#max_depth=5, n_estimators=10, max_features=1),\n",
    "    AdaBoostClassifier(),\n",
    "    GaussianNB(),\n",
    "    QuadraticDiscriminantAnalysis()]\n",
    "\n",
    "scores = []\n",
    "for model in classification_models:\n",
    "    model.fit(X_train, y_train)\n",
    "    score = model.score(X_test, y_test)\n",
    "    model_name = type(model).__name__\n",
    "    if model_name=='SVC' and model.kernel=='rbf': model_name+=' RBF kernel'\n",
    "    scores.append((model_name,(f'{100*score:.2f}%')))\n",
    "# Make it pretty\n",
    "scores_df = pd.DataFrame(scores,columns=['Classifier','Accuracy Score'])\n",
    "scores_df.sort_values(by='Accuracy Score',axis=0,ascending=False)\n"
   ]
  },
  {
   "cell_type": "code",
   "execution_count": null,
   "metadata": {},
   "outputs": [],
   "source": []
  }
 ]
}