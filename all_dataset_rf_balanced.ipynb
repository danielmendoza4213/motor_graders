{
 "cells": [
  {
   "cell_type": "code",
   "execution_count": 7,
   "id": "comparable-politics",
   "metadata": {},
   "outputs": [],
   "source": [
    "import numpy as np\n",
    "import pandas as pd\n",
    "import os\n",
    "import librosa\n",
    "import librosa.display\n",
    "import matplotlib.pyplot as plt\n",
    "from sklearn.model_selection import train_test_split\n",
    "from sklearn.ensemble import RandomForestClassifier"
   ]
  },
  {
   "cell_type": "code",
   "execution_count": 8,
   "id": "hundred-music",
   "metadata": {},
   "outputs": [],
   "source": [
    "from sklearn.model_selection import cross_val_score\n",
    "from sklearn.model_selection import RepeatedStratifiedKFold"
   ]
  },
  {
   "cell_type": "code",
   "execution_count": 9,
   "id": "white-disclosure",
   "metadata": {},
   "outputs": [],
   "source": [
    "from sklearn.metrics import confusion_matrix"
   ]
  },
  {
   "cell_type": "code",
   "execution_count": 10,
   "id": "confidential-continent",
   "metadata": {},
   "outputs": [],
   "source": [
    "df_features = pd.read_csv(\"Features/df_all_features.csv\")\n",
    "df_targets = pd.read_csv(\"Features/df_all_targets.csv\")"
   ]
  },
  {
   "cell_type": "code",
   "execution_count": 11,
   "id": "steady-swimming",
   "metadata": {},
   "outputs": [],
   "source": [
    "X = df_features\n",
    "y = df_targets.values.ravel()"
   ]
  },
  {
   "cell_type": "code",
   "execution_count": 12,
   "id": "ceramic-future",
   "metadata": {},
   "outputs": [],
   "source": [
    "X_train, X_test, y_train, y_test = train_test_split(\n",
    "    X, \n",
    "    y, \n",
    "    test_size=0.2, \n",
    "    random_state=53\n",
    ")"
   ]
  },
  {
   "cell_type": "code",
   "execution_count": 13,
   "id": "diagnostic-physiology",
   "metadata": {},
   "outputs": [
    {
     "name": "stdout",
     "output_type": "stream",
     "text": [
      "Random Forest Model's accuracy on training set is 100.00%\n",
      "Random Forest Model's accuracy on test set is 93.19%\n"
     ]
    }
   ],
   "source": [
    "from sklearn.ensemble import RandomForestClassifier\n",
    "\n",
    "########## Tuned Random Forest #######\n",
    "model = RandomForestClassifier(\n",
    "    n_estimators = 500, \n",
    "    criterion ='entropy',\n",
    "    warm_start = True,\n",
    "    max_features = 'sqrt',\n",
    "    oob_score = 'True', # more on this below\n",
    "    random_state=69  \n",
    ") \n",
    "\n",
    "model.fit(X_train, y_train)\n",
    "\n",
    "print(f'Random Forest Model\\'s accuracy on training set is {100*model.score(X_train, y_train):.2f}%')\n",
    "print(f'Random Forest Model\\'s accuracy on test set is {100*model.score(X_test, y_test):.2f}%')"
   ]
  },
  {
   "cell_type": "code",
   "execution_count": 14,
   "id": "impressed-desperate",
   "metadata": {},
   "outputs": [
    {
     "name": "stdout",
     "output_type": "stream",
     "text": [
      "              precision    recall  f1-score   support\n",
      "\n",
      "           0       0.98      0.65      0.78      2000\n",
      "           1       0.93      1.00      0.96      8812\n",
      "\n",
      "    accuracy                           0.93     10812\n",
      "   macro avg       0.95      0.82      0.87     10812\n",
      "weighted avg       0.94      0.93      0.93     10812\n",
      "\n"
     ]
    }
   ],
   "source": [
    "from sklearn.metrics import classification_report\n",
    "y_pred = model.predict(X_test)\n",
    "print(classification_report(y_test, y_pred))"
   ]
  },
  {
   "cell_type": "code",
   "execution_count": 36,
   "id": "overhead-puzzle",
   "metadata": {},
   "outputs": [],
   "source": [
    "from imblearn.ensemble import BalancedRandomForestClassifier"
   ]
  },
  {
   "cell_type": "code",
   "execution_count": 58,
   "id": "latest-smile",
   "metadata": {},
   "outputs": [],
   "source": [
    "X_balanced = df_features\n",
    "y_balanced = df_targets.values.ravel()"
   ]
  },
  {
   "cell_type": "code",
   "execution_count": 59,
   "id": "boxed-alignment",
   "metadata": {},
   "outputs": [],
   "source": [
    "X_train_balanced, X_test_balanced, y_train_balanced, y_test_balanced = train_test_split(\n",
    "    X_balanced, \n",
    "    y_balanced, \n",
    "    test_size=0.3, \n",
    "    random_state=42\n",
    ")\n",
    "X_test, X_val, y_test, y_val = train_test_split(\n",
    "    X_test_balanced, \n",
    "    y_test_balanced, \n",
    "    test_size=0.33, \n",
    "    random_state=42\n",
    ")"
   ]
  },
  {
   "cell_type": "code",
   "execution_count": 60,
   "id": "resistant-functionality",
   "metadata": {},
   "outputs": [
    {
     "data": {
      "text/plain": [
       "(10866, 29)"
      ]
     },
     "execution_count": 60,
     "metadata": {},
     "output_type": "execute_result"
    }
   ],
   "source": [
    "X_test.shape"
   ]
  },
  {
   "cell_type": "code",
   "execution_count": 61,
   "id": "resistant-drawing",
   "metadata": {},
   "outputs": [
    {
     "data": {
      "text/plain": [
       "((37839, 29), (5352, 29), (54057, 29))"
      ]
     },
     "execution_count": 61,
     "metadata": {},
     "output_type": "execute_result"
    }
   ],
   "source": [
    "X_train_balanced.shape, X_val.shape, X_balanced.shape"
   ]
  },
  {
   "cell_type": "code",
   "execution_count": 62,
   "id": "noticed-strap",
   "metadata": {},
   "outputs": [
    {
     "name": "stdout",
     "output_type": "stream",
     "text": [
      "Random Forest Model's accuracy on training set is 96.75%\n",
      "Random Forest Model's accuracy on test set is 89.95%\n",
      "Mean ROC AUC: 0.929\n"
     ]
    }
   ],
   "source": [
    "from numpy import mean\n",
    "model_balanced = BalancedRandomForestClassifier(n_estimators=200)\n",
    "model_balanced.fit(X_train_balanced, y_train_balanced)\n",
    "# define evaluation procedure\n",
    "cv = RepeatedStratifiedKFold(n_splits=10, n_repeats=3, random_state=42)\n",
    "# evaluate model\n",
    "scores = cross_val_score(model_balanced, X_test, y_test, scoring='roc_auc', cv=cv, n_jobs=-1)\n",
    "# summarize performance\n",
    "print(f'Random Forest Model\\'s accuracy on training set is {100*model_balanced.score(X_train_balanced, y_train_balanced):.2f}%')\n",
    "print(f'Random Forest Model\\'s accuracy on test set is {100*model_balanced.score(X_test_balanced, y_test_balanced):.2f}%')\n",
    "print('Mean ROC AUC: %.3f' % mean(scores))"
   ]
  },
  {
   "cell_type": "code",
   "execution_count": 63,
   "id": "center-gender",
   "metadata": {},
   "outputs": [
    {
     "name": "stdout",
     "output_type": "stream",
     "text": [
      "              precision    recall  f1-score   support\n",
      "\n",
      "           0       0.68      0.86      0.76      2011\n",
      "           1       0.97      0.91      0.94      8855\n",
      "\n",
      "    accuracy                           0.90     10866\n",
      "   macro avg       0.82      0.88      0.85     10866\n",
      "weighted avg       0.91      0.90      0.90     10866\n",
      "\n"
     ]
    }
   ],
   "source": [
    "from sklearn.metrics import classification_report\n",
    "y_pred_balanced = model_balanced.predict(X_test)\n",
    "print(classification_report(y_test, y_pred_balanced))"
   ]
  },
  {
   "cell_type": "code",
   "execution_count": 65,
   "id": "seasonal-leone",
   "metadata": {},
   "outputs": [
    {
     "name": "stdout",
     "output_type": "stream",
     "text": [
      "              precision    recall  f1-score   support\n",
      "\n",
      "           0       0.69      0.86      0.77       997\n",
      "           1       0.97      0.91      0.94      4355\n",
      "\n",
      "    accuracy                           0.90      5352\n",
      "   macro avg       0.83      0.89      0.85      5352\n",
      "weighted avg       0.91      0.90      0.91      5352\n",
      "\n"
     ]
    }
   ],
   "source": [
    "from sklearn.metrics import classification_report\n",
    "y_pred_val = model_balanced.predict(X_val)\n",
    "print(classification_report(y_val, y_pred_val))"
   ]
  },
  {
   "cell_type": "code",
   "execution_count": 82,
   "id": "fixed-construction",
   "metadata": {},
   "outputs": [],
   "source": [
    "# Save Model Using joblib\n",
    "import joblib"
   ]
  },
  {
   "cell_type": "code",
   "execution_count": 83,
   "id": "german-publisher",
   "metadata": {},
   "outputs": [
    {
     "data": {
      "text/plain": [
       "['final_model.sav']"
      ]
     },
     "execution_count": 83,
     "metadata": {},
     "output_type": "execute_result"
    }
   ],
   "source": [
    "# save the model to disk\n",
    "filename = 'final_model.sav'\n",
    "joblib.dump(model_balanced, filename, compress=3)"
   ]
  },
  {
   "cell_type": "code",
   "execution_count": 84,
   "id": "atmospheric-politics",
   "metadata": {},
   "outputs": [
    {
     "name": "stdout",
     "output_type": "stream",
     "text": [
      "              precision    recall  f1-score   support\n",
      "\n",
      "           0       0.69      0.86      0.77       997\n",
      "           1       0.97      0.91      0.94      4355\n",
      "\n",
      "    accuracy                           0.90      5352\n",
      "   macro avg       0.83      0.89      0.85      5352\n",
      "weighted avg       0.91      0.90      0.91      5352\n",
      "\n",
      "validation set:  0.9019058295964125\n",
      "              precision    recall  f1-score   support\n",
      "\n",
      "           0       0.68      0.86      0.76      2011\n",
      "           1       0.97      0.91      0.94      8855\n",
      "\n",
      "    accuracy                           0.90     10866\n",
      "   macro avg       0.82      0.88      0.85     10866\n",
      "weighted avg       0.91      0.90      0.90     10866\n",
      "\n",
      "test set:  0.898306644579422\n"
     ]
    }
   ],
   "source": [
    "# some time later...\n",
    " \n",
    "# load the model from disk\n",
    "loaded_model = joblib.load(open(filename, 'rb'))\n",
    "result = loaded_model.score(X_test, y_test)\n",
    "result_val = loaded_model.score(X_val, y_val)\n",
    "y_pred_balanced = loaded_model.predict(X_test)\n",
    "y_pred_val = loaded_model.predict(X_val)\n",
    "print( classification_report(y_val, y_pred_val))\n",
    "print(\"validation set: \", result_val)\n",
    "print(classification_report(y_test, y_pred_balanced))\n",
    "print(\"test set: \", result)"
   ]
  },
  {
   "cell_type": "code",
   "execution_count": 66,
   "id": "precise-argentina",
   "metadata": {},
   "outputs": [
    {
     "data": {
      "text/plain": [
       "(1720, 291, 814, 8041, 0.8552958727001492)"
      ]
     },
     "execution_count": 66,
     "metadata": {},
     "output_type": "execute_result"
    }
   ],
   "source": [
    "from sklearn.metrics import confusion_matrix\n",
    "tn, fp, fn, tp = confusion_matrix(y_test, y_pred_balanced).ravel()\n",
    "specificity = tn / (tn+fp)\n",
    "tn, fp, fn, tp, specificity"
   ]
  },
  {
   "cell_type": "code",
   "execution_count": 67,
   "id": "smooth-messenger",
   "metadata": {},
   "outputs": [
    {
     "data": {
      "image/png": "[encoded data removed]",
      "text/plain": [
       "<Figure size 900x600 with 1 Axes>"
      ]
     },
     "metadata": {
      "needs_background": "light"
     },
     "output_type": "display_data"
    }
   ],
   "source": [
    "from sklearn.metrics import roc_curve, auc\n",
    "# get false and true positive rates\n",
    "fpr, tpr, thresholds = roc_curve(y_test, y_pred_balanced, pos_label=0)\n",
    "# get area under the curve\n",
    "roc_auc = auc(fpr, tpr)\n",
    "# PLOT ROC curve\n",
    "plt.figure(dpi=150)\n",
    "plt.plot(fpr, tpr, lw=1, color='green', label=f'AUC = {roc_auc:.3f}')\n",
    "plt.title('ROC Curve for RF classifier')\n",
    "plt.xlabel('False Positive Rate')\n",
    "plt.ylabel('True Positive Rate (Recall)')\n",
    "plt.xlim([-0.05, 1.05])\n",
    "plt.ylim([-0.05, 1.05])\n",
    "plt.legend()\n",
    "plt.show()"
   ]
  },
  {
   "cell_type": "code",
   "execution_count": 68,
   "id": "optimum-kidney",
   "metadata": {},
   "outputs": [
    {
     "data": {
      "image/png": "[encoded data removed]",
      "text/plain": [
       "<Figure size 900x600 with 1 Axes>"
      ]
     },
     "metadata": {
      "needs_background": "light"
     },
     "output_type": "display_data"
    }
   ],
   "source": [
    "from sklearn.metrics import precision_recall_curve, average_precision_score, auc\n",
    "# get precision and recall values\n",
    "precision, recall, thresholds = precision_recall_curve(y_test, y_pred_balanced, pos_label=0)\n",
    "# average precision score\n",
    "avg_precision = average_precision_score(y_test, y_pred_balanced)\n",
    "# precision auc\n",
    "pr_auc = auc(recall, precision)\n",
    "# plot\n",
    "plt.figure(dpi=150)\n",
    "plt.plot(recall, precision, lw=1, color='blue', label=f'AP={avg_precision:.3f}; AUC={pr_auc:.3f}')\n",
    "plt.fill_between(recall, precision, -1, facecolor='lightblue', alpha=0.5)\n",
    "plt.title('PR Curve for RF classifier')\n",
    "plt.xlabel('Recall (TPR)')\n",
    "plt.ylabel('Precision')\n",
    "plt.xlim([-0.05, 1.05])\n",
    "plt.ylim([-0.05, 1.05])\n",
    "plt.legend()\n",
    "plt.show()"
   ]
  },
  {
   "cell_type": "code",
   "execution_count": null,
   "id": "voluntary-jamaica",
   "metadata": {},
   "outputs": [],
   "source": []
  }
 ],
 "metadata": {
  "kernelspec": {
   "display_name": "Python 3",
   "language": "python",
   "name": "python3"
  },
  "language_info": {
   "codemirror_mode": {
    "name": "ipython",
    "version": 3
   },
   "file_extension": ".py",
   "mimetype": "text/x-python",
   "name": "python",
   "nbconvert_exporter": "python",
   "pygments_lexer": "ipython3",
   "version": "3.9.2"
  }
 },
 "nbformat": 4,
 "nbformat_minor": 5
}
