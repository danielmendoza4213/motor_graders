{
 "cells": [
  {
   "cell_type": "code",
   "execution_count": 1,
   "id": "moral-dominican",
   "metadata": {},
   "outputs": [],
   "source": [
    "import numpy as np\n",
    "import pandas as pd\n",
    "import os\n",
    "import librosa\n",
    "import librosa.display\n",
    "import matplotlib.pyplot as plt"
   ]
  },
  {
   "cell_type": "code",
   "execution_count": 3,
   "id": "stopped-apartment",
   "metadata": {},
   "outputs": [],
   "source": [
    "audio_path_abnormal = 'C:/Users/gulce/codit_use_case/0_dB_pump/abnormal/00000000.wav'"
   ]
  },
  {
   "cell_type": "code",
   "execution_count": 4,
   "id": "round-zimbabwe",
   "metadata": {},
   "outputs": [
    {
     "data": {
      "text/plain": [
       "(array([-0.00352098, -0.00223476, -0.00142802, ..., -0.00242872,\n",
       "         0.00042851,  0.00107594], dtype=float32),\n",
       " 22050)"
      ]
     },
     "execution_count": 4,
     "metadata": {},
     "output_type": "execute_result"
    }
   ],
   "source": [
    "# Load the example clip\n",
    "y, sr = librosa.load(audio_path_abnormal)\n",
    "y, sr"
   ]
  },
  {
   "cell_type": "code",
   "execution_count": 5,
   "id": "mobile-function",
   "metadata": {},
   "outputs": [],
   "source": [
    "# Set the hop length; at 22050 Hz, 512 samples ~= 23ms\n",
    "hop_length = 512"
   ]
  },
  {
   "cell_type": "code",
   "execution_count": 6,
   "id": "restricted-worth",
   "metadata": {},
   "outputs": [],
   "source": [
    "# Separate harmonics and percussives into two waveforms\n",
    "y_harmonic, y_percussive = librosa.effects.hpss(y)"
   ]
  },
  {
   "cell_type": "code",
   "execution_count": 7,
   "id": "understood-semiconductor",
   "metadata": {},
   "outputs": [
    {
     "data": {
      "text/plain": [
       "(array([-0.00501095, -0.00389382, -0.00291642, ...,  0.        ,\n",
       "         0.        ,  0.        ], dtype=float32),\n",
       " array([0.00148997, 0.00165907, 0.0014884 , ..., 0.        , 0.        ,\n",
       "        0.        ], dtype=float32))"
      ]
     },
     "execution_count": 7,
     "metadata": {},
     "output_type": "execute_result"
    }
   ],
   "source": [
    "y_harmonic, y_percussive"
   ]
  },
  {
   "cell_type": "code",
   "execution_count": 8,
   "id": "pressing-orleans",
   "metadata": {},
   "outputs": [],
   "source": [
    "# Beat track on the percussive signal\n",
    "tempo, beat_frames = librosa.beat.beat_track(y=y_percussive,\n",
    "                                             sr=sr)"
   ]
  },
  {
   "cell_type": "code",
   "execution_count": 9,
   "id": "mighty-baseball",
   "metadata": {},
   "outputs": [
    {
     "data": {
      "text/plain": [
       "(123.046875,\n",
       " array([  3,  21,  39,  60,  81, 101, 120, 140, 161, 183, 205, 225, 246,\n",
       "        266, 286, 306, 326, 346, 367]))"
      ]
     },
     "execution_count": 9,
     "metadata": {},
     "output_type": "execute_result"
    }
   ],
   "source": [
    "tempo, beat_frames"
   ]
  },
  {
   "cell_type": "code",
   "execution_count": 10,
   "id": "liable-shadow",
   "metadata": {},
   "outputs": [],
   "source": [
    "# Compute MFCC features from the raw signal\n",
    "mfcc = librosa.feature.mfcc(y=y, sr=sr, hop_length=hop_length, n_mfcc=13)"
   ]
  },
  {
   "cell_type": "code",
   "execution_count": 11,
   "id": "addressed-display",
   "metadata": {},
   "outputs": [
    {
     "data": {
      "text/plain": [
       "(13, 431)"
      ]
     },
     "execution_count": 11,
     "metadata": {},
     "output_type": "execute_result"
    }
   ],
   "source": [
    "mfcc.shape"
   ]
  },
  {
   "cell_type": "code",
   "execution_count": 12,
   "id": "suspected-sunset",
   "metadata": {},
   "outputs": [],
   "source": [
    "# And the first-order differences (delta features)\n",
    "mfcc_delta = librosa.feature.delta(mfcc)"
   ]
  },
  {
   "cell_type": "code",
   "execution_count": 13,
   "id": "protected-journal",
   "metadata": {},
   "outputs": [
    {
     "data": {
      "text/plain": [
       "(13, 431)"
      ]
     },
     "execution_count": 13,
     "metadata": {},
     "output_type": "execute_result"
    }
   ],
   "source": [
    "mfcc_delta.shape"
   ]
  },
  {
   "cell_type": "code",
   "execution_count": 14,
   "id": "spanish-polymer",
   "metadata": {},
   "outputs": [],
   "source": [
    "# Stack and synchronize between beat events\n",
    "# This time, we'll use the mean value (default) instead of median\n",
    "beat_mfcc_delta = librosa.util.sync(np.vstack([mfcc, mfcc_delta]),\n",
    "                                    beat_frames)"
   ]
  },
  {
   "cell_type": "code",
   "execution_count": 15,
   "id": "accepting-indication",
   "metadata": {},
   "outputs": [
    {
     "data": {
      "text/plain": [
       "(26, 20)"
      ]
     },
     "execution_count": 15,
     "metadata": {},
     "output_type": "execute_result"
    }
   ],
   "source": [
    "beat_mfcc_delta.shape"
   ]
  },
  {
   "cell_type": "code",
   "execution_count": 16,
   "id": "federal-coverage",
   "metadata": {},
   "outputs": [],
   "source": [
    "# Compute chroma features from the harmonic signal\n",
    "chromagram = librosa.feature.chroma_cqt(y=y_harmonic,\n",
    "                                        sr=sr)"
   ]
  },
  {
   "cell_type": "code",
   "execution_count": 17,
   "id": "requested-discount",
   "metadata": {},
   "outputs": [
    {
     "data": {
      "text/plain": [
       "(12, 431)"
      ]
     },
     "execution_count": 17,
     "metadata": {},
     "output_type": "execute_result"
    }
   ],
   "source": [
    "chromagram.shape"
   ]
  },
  {
   "cell_type": "code",
   "execution_count": 18,
   "id": "mobile-peninsula",
   "metadata": {},
   "outputs": [],
   "source": [
    "# Aggregate chroma features between beat events\n",
    "# We'll use the median value of each feature between beat frames\n",
    "beat_chroma = librosa.util.sync(chromagram,\n",
    "                                beat_frames,\n",
    "                                aggregate=np.median)"
   ]
  },
  {
   "cell_type": "code",
   "execution_count": 19,
   "id": "consistent-spanking",
   "metadata": {},
   "outputs": [
    {
     "data": {
      "text/plain": [
       "(12, 20)"
      ]
     },
     "execution_count": 19,
     "metadata": {},
     "output_type": "execute_result"
    }
   ],
   "source": [
    "beat_chroma.shape"
   ]
  },
  {
   "cell_type": "code",
   "execution_count": 20,
   "id": "lightweight-scheduling",
   "metadata": {},
   "outputs": [],
   "source": [
    "# Finally, stack all beat-synchronous features together\n",
    "beat_features = np.vstack([beat_chroma, beat_mfcc_delta])"
   ]
  },
  {
   "cell_type": "code",
   "execution_count": 21,
   "id": "lovely-specific",
   "metadata": {},
   "outputs": [
    {
     "data": {
      "text/plain": [
       "(38, 20)"
      ]
     },
     "execution_count": 21,
     "metadata": {},
     "output_type": "execute_result"
    }
   ],
   "source": [
    "beat_features.shape"
   ]
  },
  {
   "cell_type": "code",
   "execution_count": null,
   "id": "changed-blind",
   "metadata": {},
   "outputs": [],
   "source": []
  }
 ],
 "metadata": {
  "kernelspec": {
   "display_name": "Python 3",
   "language": "python",
   "name": "python3"
  },
  "language_info": {
   "codemirror_mode": {
    "name": "ipython",
    "version": 3
   },
   "file_extension": ".py",
   "mimetype": "text/x-python",
   "name": "python",
   "nbconvert_exporter": "python",
   "pygments_lexer": "ipython3",
   "version": "3.9.2"
  }
 },
 "nbformat": 4,
 "nbformat_minor": 5
}
