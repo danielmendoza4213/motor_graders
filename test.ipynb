{
 "metadata": {
  "language_info": {
   "codemirror_mode": {
    "name": "ipython",
    "version": 3
   },
   "file_extension": ".py",
   "mimetype": "text/x-python",
   "name": "python",
   "nbconvert_exporter": "python",
   "pygments_lexer": "ipython3",
   "version": "3.8.5-final"
  },
  "orig_nbformat": 2,
  "kernelspec": {
   "name": "python3",
   "display_name": "Python 3.8.5 64-bit (conda)",
   "metadata": {
    "interpreter": {
     "hash": "13427881f06f13311079f5221e5dd632fdf9146891f6da22d47a93dcb9272d3a"
    }
   }
  }
 },
 "nbformat": 4,
 "nbformat_minor": 2,
 "cells": [
  {
   "cell_type": "code",
   "execution_count": 1,
   "metadata": {},
   "outputs": [],
   "source": [
    "import pandas as pd\n",
    "import os\n",
    "import librosa\n",
    "import numpy as np\n",
    "import matplotlib.pyplot as plt\n",
    "from sklearn.model_selection import train_test_split\n",
    "from sklearn.neighbors import KNeighborsClassifier\n",
    "from sklearn.svm import SVC\n",
    "from sklearn.tree import DecisionTreeClassifier\n",
    "from sklearn.ensemble import RandomForestClassifier, AdaBoostClassifier\n",
    "from sklearn.naive_bayes import GaussianNB\n",
    "from sklearn.discriminant_analysis import QuadraticDiscriminantAnalysis"
   ]
  },
  {
   "cell_type": "code",
   "execution_count": 2,
   "metadata": {},
   "outputs": [],
   "source": [
    "#Create database values\n",
    "snr=['+6db', '0db', '-6db']\n",
    "machine=['slider']\n",
    "id=['id_00', 'id_02', 'id_04', 'id_06']\n",
    "condition=['abnormal', 'normal']"
   ]
  },
  {
   "cell_type": "code",
   "execution_count": 3,
   "metadata": {},
   "outputs": [],
   "source": [
    "rows=[[a, b, c,d, e ]  for a in snr for b in machine for c in id for d in condition for e in os.listdir('E:\\\\'+a+'/'+b+'/'+c+'/'+d)]\n"
   ]
  },
  {
   "cell_type": "code",
   "execution_count": 4,
   "metadata": {},
   "outputs": [],
   "source": [
    "#Create df general information\n",
    "df = pd.DataFrame(rows, columns=[\"snr\", \"machine\", \"id\",\"condition\", \"file\"])"
   ]
  },
  {
   "cell_type": "code",
   "execution_count": 5,
   "metadata": {},
   "outputs": [],
   "source": [
    "#Create path for each audio file, path will we use by Librosa to retrieve features. \n",
    "df['path']='E:\\\\'+df.snr+'/'+df.machine+'/'+df.id+'/'+df.condition+'/'+df.file\n"
   ]
  },
  {
   "cell_type": "code",
   "execution_count": 6,
   "metadata": {},
   "outputs": [],
   "source": [
    "#get y values, sr is always 16000 (accordign to paper)\n",
    "def load_sound(p):\n",
    "    y, sr = librosa.load(p, sr=None)\n",
    "    return y"
   ]
  },
  {
   "cell_type": "code",
   "execution_count": 7,
   "metadata": {},
   "outputs": [],
   "source": [
    "df['waves_array']=df.path.apply(load_sound)"
   ]
  },
  {
   "cell_type": "code",
   "execution_count": 8,
   "metadata": {},
   "outputs": [],
   "source": [
    "df.to_csv('slider_general.csv', index=False)"
   ]
  },
  {
   "cell_type": "code",
   "execution_count": 84,
   "metadata": {},
   "outputs": [],
   "source": [
    "# get fast Fourier transform (FFT) \n",
    "#not added to the features_df\n",
    "def ftt(y):\n",
    "    ft = np.abs(librosa.stft(y[:2048], hop_length = 2048+1))\n",
    "    return ft"
   ]
  },
  {
   "cell_type": "code",
   "execution_count": 85,
   "metadata": {},
   "outputs": [],
   "source": [
    "#get spectral centroid\n",
    "#not added to the features_df\n",
    "def centroid(y, sr):\n",
    "    cent=librosa.feature.spectral_centroid(y=y, sr=sr)\n",
    "    return cent"
   ]
  },
  {
   "cell_type": "code",
   "execution_count": 91,
   "metadata": {},
   "outputs": [],
   "source": [
    "#features tested\n",
    "def chromagram(y, sr):\n",
    "    spec=np.abs(librosa.stft(y))\n",
    "    chroma=np.mean(librosa.feature.chroma_stft(S=spec, sr=sr).T,axis=0)\n",
    "    return chroma\n",
    "\n",
    "def melspec(y, sr):\n",
    "    mel=np.mean(librosa.feature.melspectrogram(y=y, sr=sr).T,axis=0)\n",
    "    return mel\n",
    " \n",
    "def mfcc(y, sr):\n",
    "    mfc=np.mean(librosa.feature.mfcc(y=y, sr=sr).T, axis=0)\n",
    "    return mfc"
   ]
  },
  {
   "cell_type": "code",
   "execution_count": 88,
   "metadata": {},
   "outputs": [],
   "source": [
    "def get_features(y):\n",
    "    sr=160000\n",
    "    chroma=chromagram(y, sr=sr)\n",
    "    mel=melspec(y, sr=sr)\n",
    "    mfc_coef=mfcc(y, sr=sr)\n",
    "    feature_matrix=np.array([])\n",
    "    feature_matrix=np.hstack((chroma, mel, mfc_coef))\n",
    "    return feature_matrix"
   ]
  },
  {
   "cell_type": "code",
   "execution_count": 89,
   "metadata": {
    "tags": []
   },
   "outputs": [],
   "source": [
    "def load_features():\n",
    "    X, y = [], []\n",
    "    for i in df.path.values:\n",
    "        wave=load_sound(i)\n",
    "        features=get_features(wave)\n",
    "        X.append(features)\n",
    "        if i.split('/')[3] == 'normal':\n",
    "            target= int(1)\n",
    "        else:\n",
    "            target=int(0)\n",
    "        y.append(target)\n",
    "    return np.array(X), np.array(y)"
   ]
  },
  {
   "cell_type": "code",
   "execution_count": 92,
   "metadata": {},
   "outputs": [],
   "source": [
    "features, condition = load_features()\n"
   ]
  },
  {
   "cell_type": "code",
   "execution_count": 99,
   "metadata": {},
   "outputs": [],
   "source": [
    "df_features=pd.DataFrame(features)\n",
    "df_target=pd.DataFrame(condition)"
   ]
  },
  {
   "source": [
    "0:11 -> chromagram ( 12 columns)  <br />\n",
    "12:number?-> melspec ( 128 columns)<br />\n",
    "number? : number? -> mfcc ( 20 columns)"
   ],
   "cell_type": "markdown",
   "metadata": {}
  },
  {
   "cell_type": "code",
   "execution_count": 100,
   "metadata": {},
   "outputs": [],
   "source": [
    "features_df.to_csv('features_df.csv', index=False)\n",
    "target_df.to_csv('target_df.csv', index=False)\n"
   ]
  },
  {
   "source": [
    "# ML start"
   ],
   "cell_type": "markdown",
   "metadata": {}
  },
  {
   "cell_type": "code",
   "execution_count": null,
   "metadata": {},
   "outputs": [],
   "source": [
    "X_train, X_test, y_train, y_test = train_test_split(\n",
    "    df_features, \n",
    "    df_target, \n",
    "    test_size=0.2, \n",
    "    random_state=69\n",
    ")"
   ]
  },
  {
   "cell_type": "code",
   "execution_count": null,
   "metadata": {},
   "outputs": [],
   "source": [
    "classification_models = [\n",
    "    KNeighborsClassifier(),\n",
    "    SVC(kernel='linear'),\n",
    "    SVC(kernel='rbf'),\n",
    "    DecisionTreeClassifier(),\n",
    "    RandomForestClassifier(),\n",
    "    AdaBoostClassifier(),\n",
    "    GaussianNB(),\n",
    "    QuadraticDiscriminantAnalysis()]"
   ]
  },
  {
   "cell_type": "code",
   "execution_count": null,
   "metadata": {},
   "outputs": [],
   "source": [
    "scores = []\n",
    "for model in classification_models:\n",
    "    model.fit(X_train, y_train)\n",
    "    score = model.score(X_test, y_test)\n",
    "    model_name = type(model).__name__\n",
    "    if model_name=='SVC' and model.kernel=='rbf': model_name+=' RBF kernel'\n",
    "    scores.append((model_name,(f'{100*score:.2f}%')))\n",
    "# Make it pretty\n",
    "scores_df = pd.DataFrame(scores,columns=['Classifier','Accuracy Score'])\n",
    "scores_df.sort_values(by='Accuracy Score',axis=0,ascending=False)"
   ]
  },
  {
   "cell_type": "code",
   "execution_count": null,
   "metadata": {},
   "outputs": [],
   "source": []
  }
 ]
}