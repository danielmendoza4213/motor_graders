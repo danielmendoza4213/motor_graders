{
 "metadata": {
  "language_info": {
   "codemirror_mode": {
    "name": "ipython",
    "version": 3
   },
   "file_extension": ".py",
   "mimetype": "text/x-python",
   "name": "python",
   "nbconvert_exporter": "python",
   "pygments_lexer": "ipython3",
   "version": "3.8.5-final"
  },
  "orig_nbformat": 2,
  "kernelspec": {
   "name": "python3",
   "display_name": "Python 3.8.5 64-bit (conda)",
   "metadata": {
    "interpreter": {
     "hash": "13427881f06f13311079f5221e5dd632fdf9146891f6da22d47a93dcb9272d3a"
    }
   }
  }
 },
 "nbformat": 4,
 "nbformat_minor": 2,
 "cells": [
  {
   "cell_type": "code",
   "execution_count": 1,
   "metadata": {},
   "outputs": [],
   "source": [
    "import pandas as pd\n",
    "import os\n",
    "import librosa\n",
    "import librosa\n",
    "import matplotlib.pyplot as plt\n",
    "import numpy as np\n"
   ]
  },
  {
   "cell_type": "code",
   "execution_count": 2,
   "metadata": {},
   "outputs": [],
   "source": [
    "snr=['+6b']\n",
    "machine=['valve'] #, 'pump', 'fan', 'slide'\n",
    "id=['id_00', 'id_02', 'id_04', 'id_06']\n",
    "condition=['abnormal', 'normal']"
   ]
  },
  {
   "cell_type": "code",
   "execution_count": 3,
   "metadata": {},
   "outputs": [],
   "source": [
    "rows=[[a, b, c,d, e ]  for a in snr for b in machine for c in id for d in condition for e in os.listdir(a+'/'+b+'/'+c+'/'+d)]\n"
   ]
  },
  {
   "cell_type": "code",
   "execution_count": 4,
   "metadata": {},
   "outputs": [],
   "source": [
    "df = pd.DataFrame(rows, columns=[\"snr\", \"machine\", \"id\",\"condition\", \"file\"])"
   ]
  },
  {
   "cell_type": "code",
   "execution_count": 5,
   "metadata": {},
   "outputs": [],
   "source": [
    "df['path']=df.snr+'/'+df.machine+'/'+df.id+'/'+df.condition+'/'+df.file\n"
   ]
  },
  {
   "cell_type": "code",
   "execution_count": 6,
   "metadata": {},
   "outputs": [],
   "source": [
    "def load_sound(p):\n",
    "    y, sr = librosa.load(p, sr=None)\n",
    "    return y"
   ]
  },
  {
   "cell_type": "code",
   "execution_count": 7,
   "metadata": {},
   "outputs": [],
   "source": [
    "df['y_array']=df.path.apply(load_sound)"
   ]
  },
  {
   "cell_type": "code",
   "execution_count": 8,
   "metadata": {},
   "outputs": [],
   "source": [
    "# fast Fourier transform (FFT) \n",
    "def ftt(y):\n",
    "    ft = np.abs(librosa.stft(y[:2048], hop_length = 2048+1))\n",
    "    return ft\n",
    "\n",
    "#The STFT represents a signal in the time-frequency domain by computing discrete Fourier transforms (DFT) over short overlapping windows\n"
   ]
  },
  {
   "cell_type": "code",
   "execution_count": 12,
   "metadata": {},
   "outputs": [],
   "source": [
    "df['ftt']= df.y_array.apply(ftt)"
   ]
  },
  {
   "source": [
    "from paper/exp -> To calculate the Mel spectrogram, we consider a frame size of 1024, a hop\n",
    "size of 512, and 64 mel filters in this experiment "
   ],
   "cell_type": "markdown",
   "metadata": {}
  },
  {
   "cell_type": "code",
   "execution_count": 19,
   "metadata": {},
   "outputs": [],
   "source": [
    "df.to_csv('database.csv')"
   ]
  },
  {
   "cell_type": "code",
   "execution_count": 11,
   "metadata": {},
   "outputs": [],
   "source": [
    "# spec = np.abs(librosa.stft(y, hop_length=512))\n",
    "# spec = librosa.amplitude_to_db(spec, ref=np.max)\n",
    "# librosa.display.specshow(spec, sr=sr, x_axis='time', y_axis='log');\n",
    "# plt.colorbar(format='%+2.0f dB');\n",
    "# plt.title('Spectrogram');"
   ]
  }
 ]
}