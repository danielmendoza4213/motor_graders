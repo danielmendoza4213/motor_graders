{
 "metadata": {
  "language_info": {
   "codemirror_mode": {
    "name": "ipython",
    "version": 3
   },
   "file_extension": ".py",
   "mimetype": "text/x-python",
   "name": "python",
   "nbconvert_exporter": "python",
   "pygments_lexer": "ipython3",
   "version": "3.8.5-final"
  },
  "orig_nbformat": 2,
  "kernelspec": {
   "name": "python3",
   "display_name": "Python 3.8.5 64-bit (conda)",
   "metadata": {
    "interpreter": {
     "hash": "13427881f06f13311079f5221e5dd632fdf9146891f6da22d47a93dcb9272d3a"
    }
   }
  }
 },
 "nbformat": 4,
 "nbformat_minor": 2,
 "cells": [
  {
   "cell_type": "code",
   "execution_count": 1,
   "metadata": {},
   "outputs": [],
   "source": [
    "import pandas as pd"
   ]
  },
  {
   "cell_type": "code",
   "execution_count": 2,
   "metadata": {},
   "outputs": [],
   "source": [
    "sound=pd.read_csv('assets/dataset_content.csv')"
   ]
  },
  {
   "cell_type": "code",
   "execution_count": 4,
   "metadata": {},
   "outputs": [
    {
     "output_type": "execute_result",
     "data": {
      "text/plain": [
       "  machine  id  normal  anomalous\n",
       "0   valve   0     991        119\n",
       "1   valve   1     869        120\n",
       "2   valve   2     708        120\n",
       "3   valve   3     963        120\n",
       "4   valve   4    1000        120"
      ],
      "text/html": "<div>\n<style scoped>\n    .dataframe tbody tr th:only-of-type {\n        vertical-align: middle;\n    }\n\n    .dataframe tbody tr th {\n        vertical-align: top;\n    }\n\n    .dataframe thead th {\n        text-align: right;\n    }\n</style>\n<table border=\"1\" class=\"dataframe\">\n  <thead>\n    <tr style=\"text-align: right;\">\n      <th></th>\n      <th>machine</th>\n      <th>id</th>\n      <th>normal</th>\n      <th>anomalous</th>\n    </tr>\n  </thead>\n  <tbody>\n    <tr>\n      <th>0</th>\n      <td>valve</td>\n      <td>0</td>\n      <td>991</td>\n      <td>119</td>\n    </tr>\n    <tr>\n      <th>1</th>\n      <td>valve</td>\n      <td>1</td>\n      <td>869</td>\n      <td>120</td>\n    </tr>\n    <tr>\n      <th>2</th>\n      <td>valve</td>\n      <td>2</td>\n      <td>708</td>\n      <td>120</td>\n    </tr>\n    <tr>\n      <th>3</th>\n      <td>valve</td>\n      <td>3</td>\n      <td>963</td>\n      <td>120</td>\n    </tr>\n    <tr>\n      <th>4</th>\n      <td>valve</td>\n      <td>4</td>\n      <td>1000</td>\n      <td>120</td>\n    </tr>\n  </tbody>\n</table>\n</div>"
     },
     "metadata": {},
     "execution_count": 4
    }
   ],
   "source": [
    "sound.head()"
   ]
  },
  {
   "cell_type": "code",
   "execution_count": null,
   "metadata": {},
   "outputs": [],
   "source": []
  }
 ]
}