{
 "metadata": {
  "language_info": {
   "codemirror_mode": {
    "name": "ipython",
    "version": 3
   },
   "file_extension": ".py",
   "mimetype": "text/x-python",
   "name": "python",
   "nbconvert_exporter": "python",
   "pygments_lexer": "ipython3",
   "version": "3.8.5-final"
  },
  "orig_nbformat": 2,
  "kernelspec": {
   "name": "python3",
   "display_name": "Python 3.8.5 64-bit (conda)",
   "metadata": {
    "interpreter": {
     "hash": "13427881f06f13311079f5221e5dd632fdf9146891f6da22d47a93dcb9272d3a"
    }
   }
  }
 },
 "nbformat": 4,
 "nbformat_minor": 2,
 "cells": [
  {
   "cell_type": "code",
   "execution_count": 73,
   "metadata": {},
   "outputs": [],
   "source": [
    "import pandas as pd\n",
    "import os\n",
    "import librosa\n",
    "import numpy as np\n",
    "import matplotlib.pyplot as plt"
   ]
  },
  {
   "cell_type": "code",
   "execution_count": 78,
   "metadata": {},
   "outputs": [],
   "source": [
    "#Create database values\n",
    "snr=['+6db']\n",
    "machine=['valve'] #, 'pump', 'fan', 'slide'\n",
    "id=['id_00', 'id_02', 'id_04', 'id_06']\n",
    "condition=['abnormal', 'normal']"
   ]
  },
  {
   "cell_type": "code",
   "execution_count": 79,
   "metadata": {},
   "outputs": [],
   "source": [
    "rows=[[a, b, c,d, e ]  for a in snr for b in machine for c in id for d in condition for e in os.listdir(a+'/'+b+'/'+c+'/'+d)]\n"
   ]
  },
  {
   "cell_type": "code",
   "execution_count": 80,
   "metadata": {},
   "outputs": [],
   "source": [
    "#Create Df\n",
    "df = pd.DataFrame(rows, columns=[\"snr\", \"machine\", \"id\",\"condition\", \"file\"])"
   ]
  },
  {
   "cell_type": "code",
   "execution_count": 81,
   "metadata": {},
   "outputs": [],
   "source": [
    "#Create path for each audio file, path will we use by Librosa to retrieve features. \n",
    "df['path']=df.snr+'/'+df.machine+'/'+df.id+'/'+df.condition+'/'+df.file\n"
   ]
  },
  {
   "cell_type": "code",
   "execution_count": 93,
   "metadata": {},
   "outputs": [
    {
     "output_type": "execute_result",
     "data": {
      "text/plain": [
       "       snr machine     id condition          file  \\\n",
       "0     +6db   valve  id_00  abnormal  00000000.wav   \n",
       "1     +6db   valve  id_00  abnormal  00000001.wav   \n",
       "2     +6db   valve  id_00  abnormal  00000002.wav   \n",
       "3     +6db   valve  id_00  abnormal  00000003.wav   \n",
       "4     +6db   valve  id_00  abnormal  00000004.wav   \n",
       "...    ...     ...    ...       ...           ...   \n",
       "4165  +6db   valve  id_06    normal  00000987.wav   \n",
       "4166  +6db   valve  id_06    normal  00000988.wav   \n",
       "4167  +6db   valve  id_06    normal  00000989.wav   \n",
       "4168  +6db   valve  id_06    normal  00000990.wav   \n",
       "4169  +6db   valve  id_06    normal  00000991.wav   \n",
       "\n",
       "                                        path  \n",
       "0     +6db/valve/id_00/abnormal/00000000.wav  \n",
       "1     +6db/valve/id_00/abnormal/00000001.wav  \n",
       "2     +6db/valve/id_00/abnormal/00000002.wav  \n",
       "3     +6db/valve/id_00/abnormal/00000003.wav  \n",
       "4     +6db/valve/id_00/abnormal/00000004.wav  \n",
       "...                                      ...  \n",
       "4165    +6db/valve/id_06/normal/00000987.wav  \n",
       "4166    +6db/valve/id_06/normal/00000988.wav  \n",
       "4167    +6db/valve/id_06/normal/00000989.wav  \n",
       "4168    +6db/valve/id_06/normal/00000990.wav  \n",
       "4169    +6db/valve/id_06/normal/00000991.wav  \n",
       "\n",
       "[4170 rows x 6 columns]"
      ],
      "text/html": "<div>\n<style scoped>\n    .dataframe tbody tr th:only-of-type {\n        vertical-align: middle;\n    }\n\n    .dataframe tbody tr th {\n        vertical-align: top;\n    }\n\n    .dataframe thead th {\n        text-align: right;\n    }\n</style>\n<table border=\"1\" class=\"dataframe\">\n  <thead>\n    <tr style=\"text-align: right;\">\n      <th></th>\n      <th>snr</th>\n      <th>machine</th>\n      <th>id</th>\n      <th>condition</th>\n      <th>file</th>\n      <th>path</th>\n    </tr>\n  </thead>\n  <tbody>\n    <tr>\n      <th>0</th>\n      <td>+6db</td>\n      <td>valve</td>\n      <td>id_00</td>\n      <td>abnormal</td>\n      <td>00000000.wav</td>\n      <td>+6db/valve/id_00/abnormal/00000000.wav</td>\n    </tr>\n    <tr>\n      <th>1</th>\n      <td>+6db</td>\n      <td>valve</td>\n      <td>id_00</td>\n      <td>abnormal</td>\n      <td>00000001.wav</td>\n      <td>+6db/valve/id_00/abnormal/00000001.wav</td>\n    </tr>\n    <tr>\n      <th>2</th>\n      <td>+6db</td>\n      <td>valve</td>\n      <td>id_00</td>\n      <td>abnormal</td>\n      <td>00000002.wav</td>\n      <td>+6db/valve/id_00/abnormal/00000002.wav</td>\n    </tr>\n    <tr>\n      <th>3</th>\n      <td>+6db</td>\n      <td>valve</td>\n      <td>id_00</td>\n      <td>abnormal</td>\n      <td>00000003.wav</td>\n      <td>+6db/valve/id_00/abnormal/00000003.wav</td>\n    </tr>\n    <tr>\n      <th>4</th>\n      <td>+6db</td>\n      <td>valve</td>\n      <td>id_00</td>\n      <td>abnormal</td>\n      <td>00000004.wav</td>\n      <td>+6db/valve/id_00/abnormal/00000004.wav</td>\n    </tr>\n    <tr>\n      <th>...</th>\n      <td>...</td>\n      <td>...</td>\n      <td>...</td>\n      <td>...</td>\n      <td>...</td>\n      <td>...</td>\n    </tr>\n    <tr>\n      <th>4165</th>\n      <td>+6db</td>\n      <td>valve</td>\n      <td>id_06</td>\n      <td>normal</td>\n      <td>00000987.wav</td>\n      <td>+6db/valve/id_06/normal/00000987.wav</td>\n    </tr>\n    <tr>\n      <th>4166</th>\n      <td>+6db</td>\n      <td>valve</td>\n      <td>id_06</td>\n      <td>normal</td>\n      <td>00000988.wav</td>\n      <td>+6db/valve/id_06/normal/00000988.wav</td>\n    </tr>\n    <tr>\n      <th>4167</th>\n      <td>+6db</td>\n      <td>valve</td>\n      <td>id_06</td>\n      <td>normal</td>\n      <td>00000989.wav</td>\n      <td>+6db/valve/id_06/normal/00000989.wav</td>\n    </tr>\n    <tr>\n      <th>4168</th>\n      <td>+6db</td>\n      <td>valve</td>\n      <td>id_06</td>\n      <td>normal</td>\n      <td>00000990.wav</td>\n      <td>+6db/valve/id_06/normal/00000990.wav</td>\n    </tr>\n    <tr>\n      <th>4169</th>\n      <td>+6db</td>\n      <td>valve</td>\n      <td>id_06</td>\n      <td>normal</td>\n      <td>00000991.wav</td>\n      <td>+6db/valve/id_06/normal/00000991.wav</td>\n    </tr>\n  </tbody>\n</table>\n<p>4170 rows × 6 columns</p>\n</div>"
     },
     "metadata": {},
     "execution_count": 93
    }
   ],
   "source": [
    "df"
   ]
  },
  {
   "cell_type": "code",
   "execution_count": 83,
   "metadata": {},
   "outputs": [],
   "source": [
    "#get y values, sr is always 16000 (accordign to paper)\n",
    "def load_sound(p):\n",
    "    y, sr = librosa.load(p, sr=None)\n",
    "    return y"
   ]
  },
  {
   "cell_type": "code",
   "execution_count": 84,
   "metadata": {},
   "outputs": [],
   "source": [
    "# get fast Fourier transform (FFT) \n",
    "#not added to the features_df\n",
    "def ftt(y):\n",
    "    ft = np.abs(librosa.stft(y[:2048], hop_length = 2048+1))\n",
    "    return ft"
   ]
  },
  {
   "cell_type": "code",
   "execution_count": 85,
   "metadata": {},
   "outputs": [],
   "source": [
    "#get spectral centroid\n",
    "#not added to the features_df\n",
    "def centroid(y, sr):\n",
    "    cent=librosa.feature.spectral_centroid(y=y, sr=sr)\n",
    "    return cent"
   ]
  },
  {
   "cell_type": "code",
   "execution_count": 91,
   "metadata": {},
   "outputs": [],
   "source": [
    "def chromagram(y, sr):\n",
    "    spec=np.abs(librosa.stft(y))\n",
    "    chroma=np.mean(librosa.feature.chroma_stft(S=spec, sr=sr).T,axis=0)\n",
    "    return chroma\n",
    "\n",
    "def melspec(y, sr):\n",
    "    mel=np.mean(librosa.feature.melspectrogram(y=y, sr=sr).T,axis=0)\n",
    "    return mel\n",
    " \n",
    "def mfcc(y, sr):\n",
    "    mfc=np.mean(librosa.feature.mfcc(y=y, sr=sr).T, axis=0)\n",
    "    return mfc"
   ]
  },
  {
   "cell_type": "code",
   "execution_count": 88,
   "metadata": {},
   "outputs": [],
   "source": [
    "def get_features(y):\n",
    "    sr=160000\n",
    "    chroma=chromagram(y, sr=sr)\n",
    "    mel=melspec(y, sr=sr)\n",
    "    mfc_coef=mfcc(y, sr=sr)\n",
    "    feature_matrix=np.array([])\n",
    "    feature_matrix=np.hstack((chroma, mel, mfc_coef))\n",
    "    return feature_matrix"
   ]
  },
  {
   "cell_type": "code",
   "execution_count": 89,
   "metadata": {
    "tags": []
   },
   "outputs": [],
   "source": [
    "def load_features():\n",
    "    X, y = [], []\n",
    "    for i in df.path.values:\n",
    "        wave=load_sound(i)\n",
    "        features=get_features(wave)\n",
    "        X.append(features)\n",
    "        if i.split('/')[3] == 'normal':\n",
    "            target= int(1)\n",
    "        else:\n",
    "            target=int(0)\n",
    "        y.append(target)\n",
    "    return np.array(X), np.array(y)"
   ]
  },
  {
   "cell_type": "code",
   "execution_count": 92,
   "metadata": {},
   "outputs": [],
   "source": [
    "features, condition = load_features()\n"
   ]
  },
  {
   "cell_type": "code",
   "execution_count": 99,
   "metadata": {},
   "outputs": [],
   "source": [
    "features_df=pd.DataFrame(features)\n",
    "target_df=pd.DataFrame(condition)"
   ]
  },
  {
   "source": [
    "0:11 -> chromagram ( 12 columns)  <br />\n",
    "12:number?-> melspec ( 128 columns)<br />\n",
    "number? : number? -> mfcc ( 20 columns)"
   ],
   "cell_type": "markdown",
   "metadata": {}
  },
  {
   "cell_type": "code",
   "execution_count": 100,
   "metadata": {},
   "outputs": [],
   "source": [
    "features_df.to_csv('features_df.csv')\n",
    "target_df.to_csv('target_df.csv')\n"
   ]
  },
  {
   "cell_type": "code",
   "execution_count": 32,
   "metadata": {},
   "outputs": [],
   "source": [
    "X=pd.read_csv('features_df.csv')\n",
    "y=pd.read_csv('target_df.csv')"
   ]
  }
 ]
}