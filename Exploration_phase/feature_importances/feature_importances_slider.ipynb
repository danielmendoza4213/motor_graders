{
 "cells": [
  {
   "cell_type": "code",
   "execution_count": 1,
   "id": "worth-powder",
   "metadata": {},
   "outputs": [],
   "source": [
    "import numpy as np\n",
    "import pandas as pd\n",
    "import matplotlib.pyplot as plt\n",
    "from sklearn.ensemble import RandomForestRegressor\n",
    "from sklearn.model_selection import train_test_split"
   ]
  },
  {
   "cell_type": "code",
   "execution_count": 2,
   "id": "comparative-sugar",
   "metadata": {},
   "outputs": [],
   "source": [
    "df_slider_features = pd.read_csv(\"Features/df_slider_feature.csv\")\n",
    "df_slider_target = pd.read_csv(\"Features/df_slider_target.csv\")"
   ]
  },
  {
   "cell_type": "code",
   "execution_count": 3,
   "id": "optical-vampire",
   "metadata": {},
   "outputs": [],
   "source": [
    "X = df_slider_features\n",
    "y = df_slider_target.values.ravel()"
   ]
  },
  {
   "cell_type": "code",
   "execution_count": 4,
   "id": "right-occasions",
   "metadata": {},
   "outputs": [],
   "source": [
    "X_train, X_test, y_train, y_test = train_test_split(\n",
    "    X, \n",
    "    y, \n",
    "    test_size=0.2, \n",
    "    random_state=69\n",
    ")"
   ]
  },
  {
   "cell_type": "code",
   "execution_count": 5,
   "id": "current-tension",
   "metadata": {},
   "outputs": [
    {
     "name": "stdout",
     "output_type": "stream",
     "text": [
      "Feature: 0, Score: 0.02641\n",
      "Feature: 1, Score: 0.01241\n",
      "Feature: 2, Score: 0.03477\n",
      "Feature: 3, Score: 0.01816\n",
      "Feature: 4, Score: 0.02592\n",
      "Feature: 5, Score: 0.03362\n",
      "Feature: 6, Score: 0.01900\n",
      "Feature: 7, Score: 0.02391\n",
      "Feature: 8, Score: 0.01871\n",
      "Feature: 9, Score: 0.03766\n",
      "Feature: 10, Score: 0.01973\n",
      "Feature: 11, Score: 0.02125\n",
      "Feature: 12, Score: 0.01425\n",
      "Feature: 13, Score: 0.06570\n",
      "Feature: 14, Score: 0.05681\n",
      "Feature: 15, Score: 0.04831\n",
      "Feature: 16, Score: 0.04540\n",
      "Feature: 17, Score: 0.01295\n",
      "Feature: 18, Score: 0.02547\n",
      "Feature: 19, Score: 0.05671\n",
      "Feature: 20, Score: 0.10263\n",
      "Feature: 21, Score: 0.01446\n",
      "Feature: 22, Score: 0.02709\n",
      "Feature: 23, Score: 0.03834\n",
      "Feature: 24, Score: 0.08514\n",
      "Feature: 25, Score: 0.00931\n",
      "Feature: 26, Score: 0.03679\n",
      "Feature: 27, Score: 0.03774\n",
      "Feature: 28, Score: 0.03134\n"
     ]
    },
    {
     "data": {
      "image/png": "[encoded data removed]",
      "text/plain": [
       "<Figure size 432x288 with 1 Axes>"
      ]
     },
     "metadata": {
      "needs_background": "light"
     },
     "output_type": "display_data"
    }
   ],
   "source": [
    "from sklearn.ensemble import RandomForestClassifier\n",
    "# define the model\n",
    "########## Tuned Random Forest #######\n",
    "model = RandomForestClassifier(\n",
    "    n_estimators = 500, \n",
    "    criterion ='entropy',\n",
    "    warm_start = True,\n",
    "    max_features = 'sqrt',\n",
    "    oob_score = 'True', # more on this below\n",
    "    random_state=69  \n",
    ") \n",
    "\n",
    "model.fit(X_train, y_train)\n",
    "# get importance\n",
    "importance = model.feature_importances_\n",
    "# summarize feature importance\n",
    "for i,v in enumerate(importance):\n",
    "\tprint('Feature: %0d, Score: %.5f' % (i,v))\n",
    "# plot feature importance\n",
    "plt.bar([x for x in range(len(importance))], importance)\n",
    "plt.show()"
   ]
  },
  {
   "cell_type": "code",
   "execution_count": null,
   "id": "representative-comment",
   "metadata": {},
   "outputs": [],
   "source": []
  }
 ],
 "metadata": {
  "kernelspec": {
   "display_name": "Python 3",
   "language": "python",
   "name": "python3"
  },
  "language_info": {
   "codemirror_mode": {
    "name": "ipython",
    "version": 3
   },
   "file_extension": ".py",
   "mimetype": "text/x-python",
   "name": "python",
   "nbconvert_exporter": "python",
   "pygments_lexer": "ipython3",
   "version": "3.9.2"
  }
 },
 "nbformat": 4,
 "nbformat_minor": 5
}
