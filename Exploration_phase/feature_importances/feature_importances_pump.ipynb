{
 "cells": [
  {
   "cell_type": "code",
   "execution_count": 10,
   "id": "developing-wallace",
   "metadata": {},
   "outputs": [],
   "source": [
    "import numpy as np\n",
    "import pandas as pd\n",
    "import matplotlib.pyplot as plt\n",
    "from sklearn.ensemble import RandomForestRegressor\n",
    "from sklearn.model_selection import train_test_split"
   ]
  },
  {
   "cell_type": "code",
   "execution_count": 11,
   "id": "exposed-athens",
   "metadata": {},
   "outputs": [],
   "source": [
    "df_pump_features = pd.read_csv(\"Features/df_pump_feature.csv\")\n",
    "df_pump_target = pd.read_csv(\"Features/df_pump_target.csv\")"
   ]
  },
  {
   "cell_type": "code",
   "execution_count": 12,
   "id": "capital-inspection",
   "metadata": {},
   "outputs": [],
   "source": [
    "X = df_pump_features\n",
    "y = df_pump_target.values.ravel()"
   ]
  },
  {
   "cell_type": "code",
   "execution_count": 13,
   "id": "annoying-monster",
   "metadata": {},
   "outputs": [],
   "source": [
    "X_train, X_test, y_train, y_test = train_test_split(\n",
    "    X, \n",
    "    y, \n",
    "    test_size=0.2, \n",
    "    random_state=69\n",
    ")"
   ]
  },
  {
   "cell_type": "code",
   "execution_count": 15,
   "id": "sunrise-forth",
   "metadata": {},
   "outputs": [
    {
     "name": "stdout",
     "output_type": "stream",
     "text": [
      "Feature: 0, Score: 0.02692\n",
      "Feature: 1, Score: 0.02404\n",
      "Feature: 2, Score: 0.02958\n",
      "Feature: 3, Score: 0.02506\n",
      "Feature: 4, Score: 0.02312\n",
      "Feature: 5, Score: 0.02919\n",
      "Feature: 6, Score: 0.02269\n",
      "Feature: 7, Score: 0.02517\n",
      "Feature: 8, Score: 0.02813\n",
      "Feature: 9, Score: 0.03090\n",
      "Feature: 10, Score: 0.02039\n",
      "Feature: 11, Score: 0.02897\n",
      "Feature: 12, Score: 0.02323\n",
      "Feature: 13, Score: 0.03848\n",
      "Feature: 14, Score: 0.02686\n",
      "Feature: 15, Score: 0.07727\n",
      "Feature: 16, Score: 0.02463\n",
      "Feature: 17, Score: 0.02159\n",
      "Feature: 18, Score: 0.06060\n",
      "Feature: 19, Score: 0.06701\n",
      "Feature: 20, Score: 0.06630\n",
      "Feature: 21, Score: 0.02612\n",
      "Feature: 22, Score: 0.04902\n",
      "Feature: 23, Score: 0.04520\n",
      "Feature: 24, Score: 0.04254\n",
      "Feature: 25, Score: 0.02132\n",
      "Feature: 26, Score: 0.02752\n",
      "Feature: 27, Score: 0.03647\n",
      "Feature: 28, Score: 0.03171\n"
     ]
    },
    {
     "data": {
      "image/png": "[encoded data removed]",
      "text/plain": [
       "<Figure size 432x288 with 1 Axes>"
      ]
     },
     "metadata": {
      "needs_background": "light"
     },
     "output_type": "display_data"
    }
   ],
   "source": [
    "from sklearn.ensemble import RandomForestClassifier\n",
    "# define the model\n",
    "########## Tuned Random Forest #######\n",
    "model = RandomForestClassifier(\n",
    "    n_estimators = 500, \n",
    "    criterion ='entropy',\n",
    "    warm_start = True,\n",
    "    max_features = 'sqrt',\n",
    "    oob_score = 'True', # more on this below\n",
    "    random_state=69  \n",
    ") \n",
    "\n",
    "model.fit(X_train, y_train)\n",
    "# get importance\n",
    "importance = model.feature_importances_\n",
    "# summarize feature importance\n",
    "for i,v in enumerate(importance):\n",
    "\tprint('Feature: %0d, Score: %.5f' % (i,v))\n",
    "# plot feature importance\n",
    "plt.bar([x for x in range(len(importance))], importance)\n",
    "plt.show()"
   ]
  },
  {
   "cell_type": "code",
   "execution_count": null,
   "id": "arabic-grave",
   "metadata": {},
   "outputs": [],
   "source": []
  }
 ],
 "metadata": {
  "kernelspec": {
   "display_name": "Python 3",
   "language": "python",
   "name": "python3"
  },
  "language_info": {
   "codemirror_mode": {
    "name": "ipython",
    "version": 3
   },
   "file_extension": ".py",
   "mimetype": "text/x-python",
   "name": "python",
   "nbconvert_exporter": "python",
   "pygments_lexer": "ipython3",
   "version": "3.9.2"
  }
 },
 "nbformat": 4,
 "nbformat_minor": 5
}
