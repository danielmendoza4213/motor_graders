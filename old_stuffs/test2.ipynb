{
 "metadata": {
  "language_info": {
   "codemirror_mode": {
    "name": "ipython",
    "version": 3
   },
   "file_extension": ".py",
   "mimetype": "text/x-python",
   "name": "python",
   "nbconvert_exporter": "python",
   "pygments_lexer": "ipython3",
   "version": "3.8.5-final"
  },
  "orig_nbformat": 2,
  "kernelspec": {
   "name": "python3",
   "display_name": "Python 3.8.5 64-bit (conda)",
   "metadata": {
    "interpreter": {
     "hash": "13427881f06f13311079f5221e5dd632fdf9146891f6da22d47a93dcb9272d3a"
    }
   }
  }
 },
 "nbformat": 4,
 "nbformat_minor": 2,
 "cells": [
  {
   "cell_type": "code",
   "execution_count": 1,
   "metadata": {},
   "outputs": [],
   "source": [
    "import pandas as pd\n",
    "from sklearn.model_selection import train_test_split\n",
    "from sklearn.ensemble import RandomForestClassifier\n",
    "from sklearn.metrics import classification_report"
   ]
  },
  {
   "cell_type": "code",
   "execution_count": 55,
   "metadata": {},
   "outputs": [],
   "source": [
    "import time\n"
   ]
  },
  {
   "source": [
    "### DATASET UPLOAD"
   ],
   "cell_type": "markdown",
   "metadata": {}
  },
  {
   "cell_type": "code",
   "execution_count": 2,
   "metadata": {},
   "outputs": [],
   "source": [
    "col_names = ['croma_min', 'croma_max', 'croma_mean', 'croma_std','melspec_min', 'melspec_max', 'melspec_mean', 'melspec_std','mfcc_min', 'mfcc_max', 'mfcc_mean', 'mfcc_std','centroid_min', 'centroid_max', 'centroid_mean', 'centroid_std','onset_count','ampl_min', 'ampl_max', 'ampl_mean', 'ampl_std','rms_min', 'rms_max', 'rms_mean', 'rms_std','zcr_min', 'zcr_max', 'zcr_mean', 'zcr_std']\n",
    "col_names_t=['target']"
   ]
  },
  {
   "cell_type": "code",
   "execution_count": 3,
   "metadata": {},
   "outputs": [],
   "source": [
    "df_fan_features = pd.read_csv('Features\\df_fan_feature.csv', names=col_names)\n",
    "df_fan_target = pd.read_csv('Features\\df_fan_target.csv', names=col_names_t)\n",
    "df_pump_features = pd.read_csv('Features\\df_pump_feature.csv', names=col_names)\n",
    "df_pump_target = pd.read_csv('Features\\df_pump_target.csv', names=col_names_t)\n",
    "df_slider_features = pd.read_csv('Features\\df_slider_feature.csv', names=col_names)\n",
    "df_slider_target = pd.read_csv('Features\\df_slider_target.csv', names=col_names_t)\n",
    "df_valve_features = pd.read_csv('Features\\df_valve_feature.csv', names=col_names)\n",
    "df_valve_target = pd.read_csv('Features\\df_valve_target.csv', names=col_names_t)"
   ]
  },
  {
   "source": [
    "### SPLIT DATASET \n",
    "#### Train, test, validation"
   ],
   "cell_type": "markdown",
   "metadata": {}
  },
  {
   "cell_type": "code",
   "execution_count": 40,
   "metadata": {},
   "outputs": [],
   "source": [
    "# FAN\n",
    "X_train_f, X_test_f, y_train_f, y_test_f = train_test_split(\n",
    "    df_fan_features, \n",
    "    df_fan_target.values.ravel(), \n",
    "    test_size=0.2, \n",
    "    random_state=69\n",
    ")\n",
    "X_train_f, X_val_f, y_train_f, y_val_f = train_test_split(\n",
    "    X_train_f, \n",
    "    y_train_f, \n",
    "    test_size=0.05, \n",
    "    random_state=69\n",
    ")\n",
    "\n",
    "\n",
    "# PUMP\n",
    "X_train_p, X_test_p, y_train_p, y_test_p = train_test_split(\n",
    "    df_pump_features, \n",
    "    df_pump_target.values.ravel(), \n",
    "    test_size=0.2, \n",
    "    random_state=69\n",
    ")\n",
    "#SLIDER\n",
    "X_train_s, X_test_s, y_train_s, y_test_s = train_test_split(\n",
    "    df_slider_features, \n",
    "    df_slider_target.values.ravel(), \n",
    "    test_size=0.2, \n",
    "    random_state=69\n",
    ")\n",
    "#VALVE\n",
    "X_train_v, X_test_v, y_train_v, y_test_v = train_test_split(\n",
    "    df_valve_features, \n",
    "    df_valve_target.values.ravel(), \n",
    "    test_size=0.2, \n",
    "    random_state=69\n",
    ")"
   ]
  },
  {
   "source": [
    "### MODELS EXPLORATION -> TRAINIG & TESTING"
   ],
   "cell_type": "markdown",
   "metadata": {}
  },
  {
   "cell_type": "code",
   "execution_count": 44,
   "metadata": {},
   "outputs": [],
   "source": [
    "model = RandomForestClassifier(\n",
    "    n_estimators = 500, \n",
    "    criterion ='entropy',\n",
    "    warm_start = True,\n",
    "    max_features = 'sqrt',\n",
    "    oob_score = 'True', \n",
    "    random_state=69)\n"
   ]
  },
  {
   "cell_type": "code",
   "execution_count": 54,
   "metadata": {},
   "outputs": [],
   "source": []
  },
  {
   "cell_type": "code",
   "execution_count": 57,
   "metadata": {},
   "outputs": [
    {
     "output_type": "stream",
     "name": "stderr",
     "text": [
      "C:\\Users\\Daniel\\anaconda3\\lib\\site-packages\\sklearn\\ensemble\\_forest.py:368: UserWarning: Warm-start fitting without increasing n_estimators does not fit new trees.\n",
      "  warn(\"Warm-start fitting without increasing n_estimators does not \"\n",
      "1.53125\n"
     ]
    }
   ],
   "source": [
    "start = time.process_time()\n",
    "scores = []\n",
    "model.fit(X_train_f, y_train_f)\n",
    "# model.fit(X_train_p, y_train_p)\n",
    "# model.fit(X_train_s, y_train_s)\n",
    "# model.fit(X_train_v, y_train_v)\n",
    "\n",
    "score_f = model.score(X_test_f, y_test_f)\n",
    "# score_p = model.score(X_test_p, y_test_p)\n",
    "# score_s = model.score(X_test_s, y_test_s)\n",
    "# score_v = model.score(X_test_v, y_test_v)\n",
    "print(time.process_time() - start)\n"
   ]
  },
  {
   "cell_type": "code",
   "execution_count": null,
   "metadata": {},
   "outputs": [],
   "source": []
  },
  {
   "cell_type": "code",
   "execution_count": 49,
   "metadata": {},
   "outputs": [],
   "source": [
    "\n",
    "model_name = type(model).__name__\n",
    "\n",
    "scores.append((model_name,(f'{100*score_f:.2f}%'),(f'{100*score_p:.2f}%'),(f'{100*score_s:.2f}%'),(f'{100*score_v:.2f}%')))"
   ]
  },
  {
   "source": [
    "### MODELS SCORES"
   ],
   "cell_type": "markdown",
   "metadata": {}
  },
  {
   "cell_type": "code",
   "execution_count": 50,
   "metadata": {},
   "outputs": [
    {
     "output_type": "execute_result",
     "data": {
      "text/plain": [
       "[('RandomForestClassifier', '28.13%', '13.43%', '20.63%', '95.05%')]"
      ]
     },
     "metadata": {},
     "execution_count": 50
    }
   ],
   "source": [
    "scores"
   ]
  },
  {
   "cell_type": "code",
   "execution_count": 52,
   "metadata": {},
   "outputs": [
    {
     "output_type": "execute_result",
     "data": {
      "text/plain": [
       "0.28129690783548483"
      ]
     },
     "metadata": {},
     "execution_count": 52
    }
   ],
   "source": [
    "score_f"
   ]
  },
  {
   "cell_type": "code",
   "execution_count": 47,
   "metadata": {},
   "outputs": [
    {
     "output_type": "execute_result",
     "data": {
      "text/plain": [
       "0.950459448661606"
      ]
     },
     "metadata": {},
     "execution_count": 47
    }
   ],
   "source": [
    "score_v"
   ]
  },
  {
   "cell_type": "code",
   "execution_count": 50,
   "metadata": {},
   "outputs": [],
   "source": [
    "# scores_df = pd.DataFrame(scores,columns=['Classifier','FAN_Accuracy','PUMP_Accuracy','SLIDER_Accuracy','VALVE_Accuracy'])\n",
    "# scores_df.sort_values(by='FAN_Accuracy',axis=0,ascending=False)"
   ]
  },
  {
   "cell_type": "code",
   "execution_count": null,
   "metadata": {},
   "outputs": [],
   "source": []
  }
 ]
}