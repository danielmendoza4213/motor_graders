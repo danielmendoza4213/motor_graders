{
 "cells": [
  {
   "cell_type": "code",
   "execution_count": 14,
   "id": "signed-first",
   "metadata": {},
   "outputs": [],
   "source": [
    "import numpy as np\n",
    "import pandas as pd\n",
    "import os\n",
    "import librosa\n",
    "import librosa.display\n",
    "import matplotlib.pyplot as plt\n",
    "from sklearn.model_selection import train_test_split\n",
    "from sklearn import ensemble\n",
    "from sklearn.ensemble import RandomForestClassifier"
   ]
  },
  {
   "cell_type": "code",
   "execution_count": 15,
   "id": "worth-maria",
   "metadata": {},
   "outputs": [],
   "source": [
    "from sklearn.model_selection import KFold, StratifiedKFold, cross_val_score"
   ]
  },
  {
   "cell_type": "code",
   "execution_count": 16,
   "id": "premium-particular",
   "metadata": {},
   "outputs": [],
   "source": [
    "df_features = pd.read_csv(\"features_df.csv\")\n",
    "df_target = pd.read_csv(\"target_df.csv\")"
   ]
  },
  {
   "cell_type": "code",
   "execution_count": 17,
   "id": "liable-judgment",
   "metadata": {},
   "outputs": [],
   "source": [
    "df_target[\"normality\"] = df_target.iloc[:, 1].replace(('normal', 'abnormal'), (0, 1))"
   ]
  },
  {
   "cell_type": "code",
   "execution_count": 18,
   "id": "australian-israeli",
   "metadata": {},
   "outputs": [],
   "source": [
    "df_target.drop(df_target.columns[0], axis=1 , inplace=True)"
   ]
  },
  {
   "cell_type": "code",
   "execution_count": 19,
   "id": "applied-strain",
   "metadata": {},
   "outputs": [],
   "source": [
    "df_features.drop(df_features.columns[0], axis=1 , inplace=True)"
   ]
  },
  {
   "cell_type": "code",
   "execution_count": 20,
   "id": "satellite-november",
   "metadata": {},
   "outputs": [
    {
     "data": {
      "text/plain": [
       "(4170, 160)"
      ]
     },
     "execution_count": 20,
     "metadata": {},
     "output_type": "execute_result"
    }
   ],
   "source": [
    "df_features.shape"
   ]
  },
  {
   "cell_type": "code",
   "execution_count": 21,
   "id": "useful-programmer",
   "metadata": {},
   "outputs": [
    {
     "data": {
      "text/plain": [
       "(4170, 2)"
      ]
     },
     "execution_count": 21,
     "metadata": {},
     "output_type": "execute_result"
    }
   ],
   "source": [
    "df_target.shape"
   ]
  },
  {
   "cell_type": "code",
   "execution_count": 22,
   "id": "engaged-amazon",
   "metadata": {},
   "outputs": [],
   "source": [
    "X = df_features \n",
    "y = df_target[\"normality\"]"
   ]
  },
  {
   "cell_type": "code",
   "execution_count": 23,
   "id": "sunrise-reliance",
   "metadata": {},
   "outputs": [
    {
     "name": "stdout",
     "output_type": "stream",
     "text": [
      "Fold:1, Train set: 3336, Test set:834\n",
      "Fold:2, Train set: 3336, Test set:834\n",
      "Fold:3, Train set: 3336, Test set:834\n",
      "Fold:4, Train set: 3336, Test set:834\n",
      "Fold:5, Train set: 3336, Test set:834\n"
     ]
    }
   ],
   "source": [
    "# Lets split the data into 5 folds. \n",
    "# We will use this 'kf'(StratiFiedKFold splitting stratergy) object as input to cross_val_score() method\n",
    "# The folds are made by preserving the percentage of samples for each class.\n",
    "kf = StratifiedKFold(n_splits=5, shuffle=True, random_state=42)\n",
    "\n",
    "cnt = 1\n",
    "# split()  method generate indices to split data into training and test set.\n",
    "for train_index, test_index in kf.split(X, y):\n",
    "    print(f'Fold:{cnt}, Train set: {len(train_index)}, Test set:{len(test_index)}')\n",
    "    cnt+=1\n",
    "    \n",
    "# Note that: \n",
    "# cross_val_score() parameter 'cv' will by default use StratifiedKFold spliting startergy if we just specify value of number of folds. \n",
    "# So you can bypass above step and just specify cv= 5 in cross_val_score() function"
   ]
  },
  {
   "cell_type": "code",
   "execution_count": 24,
   "id": "acting-joining",
   "metadata": {},
   "outputs": [
    {
     "name": "stdout",
     "output_type": "stream",
     "text": [
      "Scores for each fold are: [0.99280576 0.99160671 0.9940048  0.99040767 0.99160671]\n",
      "Average score: 0.99\n"
     ]
    }
   ],
   "source": [
    "score = cross_val_score(ensemble.RandomForestClassifier(random_state= 42), X, y, cv= kf, scoring=\"accuracy\")\n",
    "print(f'Scores for each fold are: {score}')\n",
    "print(f'Average score: {\"{:.2f}\".format(score.mean())}')"
   ]
  },
  {
   "cell_type": "code",
   "execution_count": 25,
   "id": "neural-collection",
   "metadata": {},
   "outputs": [
    {
     "name": "stdout",
     "output_type": "stream",
     "text": [
      "Average score(50): 0.992\n",
      "Average score(100): 0.992\n",
      "Average score(150): 0.993\n",
      "Average score(200): 0.994\n",
      "Average score(250): 0.994\n",
      "Average score(300): 0.994\n",
      "Average score(350): 0.994\n"
     ]
    }
   ],
   "source": [
    "n_estimators = [50, 100, 150, 200, 250, 300, 350]\n",
    "\n",
    "for val in n_estimators:\n",
    "    score = cross_val_score(ensemble.RandomForestClassifier(n_estimators= val, random_state= 42), X, y, cv= kf, scoring=\"accuracy\")\n",
    "    print(f'Average score({val}): {\"{:.3f}\".format(score.mean())}')"
   ]
  },
  {
   "cell_type": "code",
   "execution_count": null,
   "id": "suited-sierra",
   "metadata": {},
   "outputs": [],
   "source": []
  }
 ],
 "metadata": {
  "kernelspec": {
   "display_name": "Python 3",
   "language": "python",
   "name": "python3"
  },
  "language_info": {
   "codemirror_mode": {
    "name": "ipython",
    "version": 3
   },
   "file_extension": ".py",
   "mimetype": "text/x-python",
   "name": "python",
   "nbconvert_exporter": "python",
   "pygments_lexer": "ipython3",
   "version": "3.9.2"
  }
 },
 "nbformat": 4,
 "nbformat_minor": 5
}
