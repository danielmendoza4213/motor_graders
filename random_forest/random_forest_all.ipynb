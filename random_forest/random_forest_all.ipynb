{
 "metadata": {
  "language_info": {
   "codemirror_mode": {
    "name": "ipython",
    "version": 3
   },
   "file_extension": ".py",
   "mimetype": "text/x-python",
   "name": "python",
   "nbconvert_exporter": "python",
   "pygments_lexer": "ipython3",
   "version": "3.8.5-final"
  },
  "orig_nbformat": 2,
  "kernelspec": {
   "name": "python3",
   "display_name": "Python 3.8.5 64-bit (conda)",
   "metadata": {
    "interpreter": {
     "hash": "13427881f06f13311079f5221e5dd632fdf9146891f6da22d47a93dcb9272d3a"
    }
   }
  }
 },
 "nbformat": 4,
 "nbformat_minor": 2,
 "cells": [
  {
   "cell_type": "code",
   "execution_count": 1,
   "metadata": {},
   "outputs": [],
   "source": [
    "import pandas as pd\n",
    "import numpy as np\n",
    "from sklearn.model_selection import train_test_split\n",
    "from sklearn.ensemble import RandomForestClassifier\n",
    "from sklearn.metrics import classification_report\n",
    "from sklearn.metrics import plot_roc_curve\n",
    "from sklearn.metrics import roc_curve, auc\n",
    "from sklearn.metrics import precision_recall_curve, average_precision_score, auc\n",
    "import time"
   ]
  },
  {
   "cell_type": "code",
   "execution_count": 2,
   "metadata": {},
   "outputs": [],
   "source": [
    "dfF=pd.read_csv('../Features/df_fan_feature.csv')\r\n",
    "dfP=pd.read_csv('../Features/df_pump_feature.csv')\r\n",
    "dfS=pd.read_csv('../Features/df_slider_feature.csv')\r\n",
    "dfV=pd.read_csv('../Features/df_valve_feature.csv')\r\n",
    "TF=pd.read_csv('../Features/df_fan_target.csv')\r\n",
    "TP=pd.read_csv('../Features/df_pump_target.csv')\r\n",
    "TS=pd.read_csv('../Features/df_slider_target.csv')\r\n",
    "TV=pd.read_csv('../Features/df_valve_target.csv')\r\n",
    "df_all=((dfF.append(dfP, ignore_index=True)).append(dfS, ignore_index=True)).append(dfV, ignore_index=True)\r\n",
    "t_all=((TF.append(TP, ignore_index=True)).append(TS, ignore_index=True)).append(TV, ignore_index=True)\r\n",
    "df_all.to_csv(\"df_all_features.csv\", index=False)\r\n",
    "t_all.to_csv(\"df_all_targets.csv\", index=False)\r\n"
   ]
  },
  {
   "source": [
    "## All 4 Machines"
   ],
   "cell_type": "markdown",
   "metadata": {}
  },
  {
   "cell_type": "code",
   "execution_count": 3,
   "metadata": {},
   "outputs": [],
   "source": [
    "X = df_all\n",
    "y = t_all.values.ravel()"
   ]
  },
  {
   "cell_type": "code",
   "execution_count": 4,
   "metadata": {},
   "outputs": [],
   "source": [
    "X_train, X_test, y_train, y_test = train_test_split(\n",
    "    X, \n",
    "    y, \n",
    "    test_size=0.2, \n",
    "    random_state=69\n",
    ")\n",
    "X_train, X_val, y_train, y_val = train_test_split(\n",
    "    X_train, \n",
    "    y_train, \n",
    "    test_size=0.05, \n",
    "    random_state=69\n",
    ")"
   ]
  },
  {
   "cell_type": "code",
   "execution_count": 5,
   "metadata": {},
   "outputs": [
    {
     "output_type": "stream",
     "name": "stdout",
     "text": [
      "Random Forest Model's accuracy on training set is 99.99%\n",
      "Random Forest Model's accuracy on test set is 93.53%\n",
      "32.234375\n"
     ]
    }
   ],
   "source": [
    "start = time.process_time()\n",
    "########## Tuned Random Forest #######\n",
    "model = RandomForestClassifier(\n",
    "    n_estimators = 50, \n",
    "    criterion ='entropy',\n",
    "    warm_start = True,\n",
    "    max_features = 'sqrt',\n",
    "    oob_score = 'True', \n",
    "    random_state=42  \n",
    ") \n",
    "\n",
    "model.fit(X_train, y_train)\n",
    "\n",
    "print(f'Random Forest Model\\'s accuracy on training set is {100*model.score(X_train, y_train):.2f}%')\n",
    "print(f'Random Forest Model\\'s accuracy on test set is {100*model.score(X_test, y_test):.2f}%')\n",
    "\n",
    "print(time.process_time() - start)"
   ]
  },
  {
   "cell_type": "code",
   "execution_count": 6,
   "metadata": {},
   "outputs": [
    {
     "output_type": "stream",
     "name": "stdout",
     "text": [
      "              precision    recall  f1-score   support\n\n           0       0.97      0.66      0.79      1936\n           1       0.93      0.99      0.96      8876\n\n    accuracy                           0.94     10812\n   macro avg       0.95      0.83      0.87     10812\nweighted avg       0.94      0.94      0.93     10812\n\n0.171875\n"
     ]
    }
   ],
   "source": [
    "start = time.process_time()\n",
    "y_pred = model.predict(X_test)\n",
    "print(classification_report(y_test, y_pred))\n",
    "print(time.process_time() - start)"
   ]
  },
  {
   "source": [
    "0=Abnormal\n",
    "1=Normal"
   ],
   "cell_type": "markdown",
   "metadata": {}
  },
  {
   "cell_type": "code",
   "execution_count": 7,
   "metadata": {},
   "outputs": [
    {
     "output_type": "stream",
     "name": "stdout",
     "text": [
      "              precision    recall  f1-score   support\n\n           0       0.96      0.68      0.80       414\n           1       0.93      0.99      0.96      1749\n\n    accuracy                           0.93      2163\n   macro avg       0.95      0.84      0.88      2163\nweighted avg       0.94      0.93      0.93      2163\n\n"
     ]
    }
   ],
   "source": [
    "y_pred_val = model.predict(X_val)\n",
    "print(classification_report(y_val, y_pred_val))"
   ]
  },
  {
   "source": [
    "## Machine type pred"
   ],
   "cell_type": "markdown",
   "metadata": {}
  },
  {
   "cell_type": "code",
   "execution_count": 8,
   "metadata": {},
   "outputs": [],
   "source": [
    "f=np.ones(16650, dtype=int)\n",
    "p=(np.ones(12615, dtype=int))+1\n",
    "s=(np.ones(12282, dtype=int))+2\n",
    "v=(np.ones(12510, dtype=int))+3"
   ]
  },
  {
   "cell_type": "code",
   "execution_count": 9,
   "metadata": {},
   "outputs": [],
   "source": [
    "mach=np.concatenate((f,p,s,v))"
   ]
  },
  {
   "cell_type": "code",
   "execution_count": 11,
   "metadata": {},
   "outputs": [],
   "source": [
    "y = mach"
   ]
  },
  {
   "cell_type": "code",
   "execution_count": 12,
   "metadata": {},
   "outputs": [],
   "source": [
    "X_train, X_test, y_train, y_test = train_test_split(\n",
    "    X, \n",
    "    y, \n",
    "    test_size=0.2, \n",
    "    random_state=69\n",
    ")\n",
    "X_train, X_val, y_train, y_val = train_test_split(\n",
    "    X_train, \n",
    "    y_train, \n",
    "    test_size=0.05, \n",
    "    random_state=69\n",
    ")"
   ]
  },
  {
   "cell_type": "code",
   "execution_count": 13,
   "metadata": {},
   "outputs": [
    {
     "output_type": "stream",
     "name": "stdout",
     "text": [
      "Random Forest Model's accuracy on training set is 100.00%\n",
      "Random Forest Model's accuracy on test set is 94.36%\n",
      "28.015625\n"
     ]
    }
   ],
   "source": [
    "start = time.process_time()\n",
    "########## Tuned Random Forest #######\n",
    "model = RandomForestClassifier(\n",
    "    n_estimators = 50, \n",
    "    criterion ='entropy',\n",
    "    warm_start = True,\n",
    "    max_features = 'sqrt',\n",
    "    oob_score = 'True', \n",
    "    random_state=42  \n",
    ") \n",
    "\n",
    "model.fit(X_train, y_train)\n",
    "\n",
    "print(f'Random Forest Model\\'s accuracy on training set is {100*model.score(X_train, y_train):.2f}%')\n",
    "print(f'Random Forest Model\\'s accuracy on test set is {100*model.score(X_test, y_test):.2f}%')\n",
    "\n",
    "print(time.process_time() - start)"
   ]
  },
  {
   "cell_type": "code",
   "execution_count": 14,
   "metadata": {},
   "outputs": [
    {
     "output_type": "stream",
     "name": "stdout",
     "text": [
      "              precision    recall  f1-score   support\n\n           1       0.94      0.94      0.94      3335\n           2       0.90      0.91      0.91      2538\n           3       0.94      0.93      0.93      2444\n           4       1.00      1.00      1.00      2495\n\n    accuracy                           0.94     10812\n   macro avg       0.94      0.94      0.94     10812\nweighted avg       0.94      0.94      0.94     10812\n\n0.21875\n"
     ]
    }
   ],
   "source": [
    "start = time.process_time()\n",
    "y_pred = model.predict(X_test)\n",
    "print(classification_report(y_test, y_pred))\n",
    "print(time.process_time() - start)"
   ]
  },
  {
   "cell_type": "code",
   "execution_count": 15,
   "metadata": {},
   "outputs": [
    {
     "output_type": "stream",
     "name": "stdout",
     "text": [
      "              precision    recall  f1-score   support\n\n           1       0.93      0.94      0.93       637\n           2       0.89      0.88      0.88       516\n           3       0.91      0.91      0.91       496\n           4       0.99      0.99      0.99       514\n\n    accuracy                           0.93      2163\n   macro avg       0.93      0.93      0.93      2163\nweighted avg       0.93      0.93      0.93      2163\n\n"
     ]
    }
   ],
   "source": [
    "y_pred_val = model.predict(X_val)\n",
    "print(classification_report(y_val, y_pred_val))"
   ]
  },
  {
   "cell_type": "code",
   "execution_count": null,
   "metadata": {},
   "outputs": [],
   "source": []
  }
 ]
}