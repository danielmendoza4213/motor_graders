{
 "metadata": {
  "language_info": {
   "codemirror_mode": {
    "name": "ipython",
    "version": 3
   },
   "file_extension": ".py",
   "mimetype": "text/x-python",
   "name": "python",
   "nbconvert_exporter": "python",
   "pygments_lexer": "ipython3",
   "version": "3.8.5-final"
  },
  "orig_nbformat": 2,
  "kernelspec": {
   "name": "python385jvsc74a57bd013427881f06f13311079f5221e5dd632fdf9146891f6da22d47a93dcb9272d3a",
   "display_name": "Python 3.8.5 64-bit (conda)"
  }
 },
 "nbformat": 4,
 "nbformat_minor": 2,
 "cells": [
  {
   "cell_type": "code",
   "execution_count": 6,
   "metadata": {},
   "outputs": [],
   "source": [
    "import joblib\n",
    "import librosa"
   ]
  },
  {
   "source": [
    "### IMPORT MODELS"
   ],
   "cell_type": "markdown",
   "metadata": {}
  },
  {
   "cell_type": "code",
   "execution_count": 5,
   "metadata": {},
   "outputs": [],
   "source": [
    "load_model_all = joblib.load(open('2.Models\\model_all.sav', 'rb'))\n",
    "load_model_val = joblib.load(open('2.Models\\model_fan.sav', 'rb'))\n",
    "load_model_pump = joblib.load(open('2.Models\\model_pump.sav', 'rb'))\n",
    "load_model_slider = joblib.load(open('2.Models\\model_slider.sav', 'rb'))\n",
    "load_model_valve = joblib.load(open('2.Models\\model_valve.sav', 'rb'))"
   ]
  },
  {
   "source": [
    "### IMPORT SOUND TEST"
   ],
   "cell_type": "markdown",
   "metadata": {}
  },
  {
   "cell_type": "code",
   "execution_count": null,
   "metadata": {},
   "outputs": [],
   "source": []
  },
  {
   "cell_type": "code",
   "execution_count": null,
   "metadata": {},
   "outputs": [],
   "source": [
    "if "
   ]
  }
 ]
}