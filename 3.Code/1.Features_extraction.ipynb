{
 "metadata": {
  "language_info": {
   "codemirror_mode": {
    "name": "ipython",
    "version": 3
   },
   "file_extension": ".py",
   "mimetype": "text/x-python",
   "name": "python",
   "nbconvert_exporter": "python",
   "pygments_lexer": "ipython3",
   "version": "3.8.5-final"
  },
  "orig_nbformat": 2,
  "kernelspec": {
   "name": "python385jvsc74a57bd013427881f06f13311079f5221e5dd632fdf9146891f6da22d47a93dcb9272d3a",
   "display_name": "Python 3.8.5 64-bit ('Daniel': virtualenv)"
  }
 },
 "nbformat": 4,
 "nbformat_minor": 2,
 "cells": [
  {
   "cell_type": "code",
   "execution_count": null,
   "metadata": {},
   "outputs": [],
   "source": [
    "import pandas as pd\n",
    "import librosa\n",
    "import numpy as np"
   ]
  },
  {
   "cell_type": "code",
   "execution_count": 3,
   "metadata": {},
   "outputs": [],
   "source": [
    "#Audio files have to be dowloaded from https://zenodo.org/record/3384388#.YGW92ugza01\n",
    "df=pd.read_csv('0. Files_info/pump_general.csv')"
   ]
  },
  {
   "source": [
    "## FEATURES"
   ],
   "cell_type": "markdown",
   "metadata": {}
  },
  {
   "cell_type": "code",
   "execution_count": 3,
   "metadata": {},
   "outputs": [],
   "source": [
    "def load_sound(p):\n",
    "    y, sr = librosa.load(p, sr=None)\n",
    "    return y\n",
    "    \n",
    "def chromagram(y, sr):\n",
    "    spec=np.abs(librosa.stft(y))\n",
    "    chroma=np.mean(librosa.feature.chroma_stft(S=spec, sr=sr).T,axis=0)\n",
    "    chroma_f= np.array((np.amin(chroma), np.amax(chroma), np.mean(chroma), np.std(chroma)))\n",
    "    return chroma_f\n",
    "\n",
    "def melspec(y, sr):\n",
    "    mel=np.mean(librosa.feature.melspectrogram(y=y, sr=sr).T,axis=0)\n",
    "    mel_f= np.array((np.amin(mel), np.amax(mel), np.mean(mel), np.std(mel)))\n",
    "    return mel_f\n",
    " \n",
    "def mfcc(y, sr):\n",
    "    mfc=np.mean(librosa.feature.mfcc(y=y, sr=sr).T, axis=0)\n",
    "    mfc_f= np.array((np.amin(mfc), np.amax(mfc), np.mean(mfc), np.std(mfc)))\n",
    "    return mfc_f\n",
    "\n",
    "def centroid(y, sr):\n",
    "    cent=librosa.feature.spectral_centroid(y=y, sr=sr)\n",
    "    cent_f= np.array((np.amin(cent), np.amax(cent), np.mean(cent), np.std(cent)))\n",
    "    return cent_f\n",
    "\n",
    "def onset_number(y):\n",
    "    onset = librosa.onset.onset_detect(y=y, sr=22050, units='time')\n",
    "    return onset.shape[0]\n",
    "    \n",
    "def amplitude_envelope(y):\n",
    "    frame_size=1024\n",
    "    hop_length=512\n",
    "    ampl=np.array([max(y[i:i+frame_size]) for i in range(0, len(y),hop_length)])\n",
    "    return np.array((np.amin(ampl), np.amax(ampl), np.mean(ampl), np.std(ampl)))\n",
    "\n",
    "def rms(y):\n",
    "    root=librosa.feature.rms(y)\n",
    "    return np.array((np.amin(root), np.amax(root), np.mean(root), np.std(root)))\n",
    "\n",
    "def zcr(y):\n",
    "    zero=librosa.feature.zero_crossing_rate(y)\n",
    "    return np.array((np.amin(zero), np.amax(zero), np.mean(zero), np.std(zero)))\n",
    "\n",
    "    \n",
    "def get_features(y):\n",
    "    sr=160000\n",
    "    chroma=chromagram(y, sr=sr)\n",
    "    mel=melspec(y, sr=sr)\n",
    "    mfc_coef=mfcc(y, sr=sr)\n",
    "    cetr=centroid(y, sr=sr)\n",
    "    onst=onset_number(y)\n",
    "    ampl=amplitude_envelope(y)\n",
    "    root=rms(y)\n",
    "    zero=zcr(y)\n",
    "    feature_matrix=np.array([])\n",
    "    feature_matrix=np.hstack((chroma, mel, mfc_coef, cetr, onst, ampl, root, zero))\n",
    "    return feature_matrix\n"
   ]
  },
  {
   "cell_type": "code",
   "execution_count": 4,
   "metadata": {},
   "outputs": [],
   "source": [
    "def load_features():\n",
    "    X, y = [], []\n",
    "    for i in df.path.values:\n",
    "        X.append(get_features(load_sound(i)))\n",
    "        if i.split('/')[3] == 'normal':\n",
    "            target= int(1)\n",
    "        else:\n",
    "            target=int(0)\n",
    "        y.append(target)\n",
    "    return np.array(X), np.array(y)"
   ]
  },
  {
   "cell_type": "code",
   "execution_count": 5,
   "metadata": {},
   "outputs": [],
   "source": [
    "features, condition = load_features()"
   ]
  },
  {
   "cell_type": "code",
   "execution_count": 6,
   "metadata": {},
   "outputs": [],
   "source": [
    "df_pump_features=pd.DataFrame(features)\n",
    "df_pump_target=pd.DataFrame(condition)"
   ]
  },
  {
   "source": [
    "## Feautres export - to folder \"1. Features_and_targets\""
   ],
   "cell_type": "markdown",
   "metadata": {}
  },
  {
   "cell_type": "code",
   "execution_count": 7,
   "metadata": {},
   "outputs": [],
   "source": [
    "df_pump_features.to_csv('df_pump_feature.csv', index=False)\n",
    "df_pump_target.to_csv('df_pump_target.csv', index=False)"
   ]
  },
  {
   "source": [
    "#### repeat with the other machines - > fan, valve, slider"
   ],
   "cell_type": "markdown",
   "metadata": {}
  }
 ]
}