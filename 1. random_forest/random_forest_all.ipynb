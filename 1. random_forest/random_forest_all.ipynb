{
 "metadata": {
  "language_info": {
   "codemirror_mode": {
    "name": "ipython",
    "version": 3
   },
   "file_extension": ".py",
   "mimetype": "text/x-python",
   "name": "python",
   "nbconvert_exporter": "python",
   "pygments_lexer": "ipython3",
   "version": "3.8.5-final"
  },
  "orig_nbformat": 2,
  "kernelspec": {
   "name": "python385jvsc74a57bd013427881f06f13311079f5221e5dd632fdf9146891f6da22d47a93dcb9272d3a",
   "display_name": "Python 3.8.5 64-bit ('Daniel': virtualenv)"
  }
 },
 "nbformat": 4,
 "nbformat_minor": 2,
 "cells": [
  {
   "cell_type": "code",
   "execution_count": 2,
   "metadata": {},
   "outputs": [],
   "source": [
    "import pandas as pd\n",
    "from numpy import mean\n",
    "\n",
    "from sklearn.model_selection import train_test_split\n",
    "\n",
    "from sklearn.ensemble import RandomForestClassifier\n",
    "\n",
    "from imblearn.ensemble import BalancedRandomForestClassifier\n",
    "\n",
    "\n",
    "\n",
    "from sklearn.metrics import classification_report\n",
    "from sklearn.metrics import plot_roc_curve\n",
    "from sklearn.metrics import roc_curve, auc\n",
    "from sklearn.metrics import precision_recall_curve, average_precision_score, auc\n",
    "import time"
   ]
  },
  {
   "source": [
    "## Load Features and Targets"
   ],
   "cell_type": "markdown",
   "metadata": {}
  },
  {
   "cell_type": "code",
   "execution_count": 4,
   "metadata": {},
   "outputs": [],
   "source": [
    "FF=pd.read_csv('../Features/df_fan_feature.csv')\n",
    "FP=pd.read_csv('../Features/df_pump_feature.csv')\n",
    "FS=pd.read_csv('../Features/df_slider_feature.csv')\n",
    "FV=pd.read_csv('../Features/df_valve_feature.csv')\n",
    "TF=pd.read_csv('../Features/df_fan_target.csv')\n",
    "TP=pd.read_csv('../Features/df_pump_target.csv')\n",
    "TS=pd.read_csv('../Features/df_slider_target.csv')\n",
    "TV=pd.read_csv('../Features/df_valve_target.csv')\n",
    "Fall=pd.read_csv('../Features/df_all_features.csv')\n",
    "Tall=pd.read_csv('../Features/df_all_targets.csv')"
   ]
  },
  {
   "source": [
    "## Dataset Split"
   ],
   "cell_type": "markdown",
   "metadata": {}
  },
  {
   "cell_type": "code",
   "execution_count": 8,
   "metadata": {},
   "outputs": [],
   "source": [
    "#Slit Dataset in 3. Test (70%) , Train ( 2%) and Validation set (10%)\n",
    "#For all \n",
    "X_train_all, X_test_all, y_train_all, y_test_all = train_test_split( Fall, Tall.values.ravel(), random_state=42)\n",
    "X_test_all, X_val_all, y_test_all, y_val_all = train_test_split(X_test_all, y_test_all, test_size=0.33, random_state=42)\n",
    "\n",
    "#For FAN\n",
    "X_train_fan, X_test_fan, y_train_fan, y_test_fan = train_test_split( FF, TF.values.ravel(), random_state=42)\n",
    "X_test_fan, X_val_fan, y_test_fan, y_val_fan = train_test_split(X_test_fan, y_test_fan, test_size=0.33, random_state=42)\n",
    "\n",
    "#For VALVE\n",
    "X_train_valve, X_test_valve, y_train_valve, y_test_valve = train_test_split( FV, TV.values.ravel(), random_state=42)\n",
    "X_test_valve, X_val_valve, y_test_valve, y_val_valve = train_test_split(X_test_valve, y_test_valve, test_size=0.33, random_state=42)\n",
    "\n",
    "#For PUMP\n",
    "X_train_pump, X_test_pump, y_train_pump, y_test_pump = train_test_split( FP, TP.values.ravel(), random_state=42)\n",
    "X_test_pump, X_val_pump, y_test_pump, y_val_pump = train_test_split(X_test_pump, y_test_pump, test_size=0.33, random_state=42)\n",
    "#For SLIDER\n",
    "X_train_slider, X_test_slider, y_train_slider, y_test_slider = train_test_split( FS, TS.values.ravel(), random_state=42)\n",
    "X_test_slider, X_val_slider, y_test_slider, y_val_slider = train_test_split(X_test_slider, y_test_slider, test_size=0.33, random_state=42)"
   ]
  },
  {
   "source": [
    "## Models fitting"
   ],
   "cell_type": "markdown",
   "metadata": {}
  },
  {
   "cell_type": "code",
   "execution_count": 24,
   "metadata": {},
   "outputs": [
    {
     "output_type": "stream",
     "name": "stdout",
     "text": [
      "Random Forest Model's accuracy on training set is 99.99%\n",
      "Random Forest Model's accuracy on test set is 93.04%\n",
      "34.09375\n"
     ]
    }
   ],
   "source": [
    "start = time.process_time()\n",
    "########## Tuned Random Forest #######\n",
    "model = RandomForestClassifier(\n",
    "    n_estimators = 50, \n",
    "    criterion ='entropy',\n",
    "    warm_start = True,\n",
    "    max_features = 'sqrt',\n",
    "    oob_score = 'True', \n",
    "    random_state=42  \n",
    ") \n",
    "\n",
    "model.fit(X_train, y_train)\n",
    "\n",
    "print(f'Random Forest Model\\'s accuracy on training set is {100*model.score(X_train, y_train):.2f}%')\n",
    "print(f'Random Forest Model\\'s accuracy on test set is {100*model.score(X_test, y_test):.2f}%')\n",
    "\n",
    "print(time.process_time() - start)"
   ]
  },
  {
   "cell_type": "code",
   "execution_count": 25,
   "metadata": {},
   "outputs": [
    {
     "output_type": "stream",
     "name": "stdout",
     "text": [
      "              precision    recall  f1-score   support\n\n           0       0.96      0.65      0.78      2011\n           1       0.93      0.99      0.96      8855\n\n    accuracy                           0.93     10866\n   macro avg       0.95      0.82      0.87     10866\nweighted avg       0.93      0.93      0.92     10866\n\n0.265625\n"
     ]
    }
   ],
   "source": [
    "start = time.process_time()\n",
    "y_pred = model.predict(X_test)\n",
    "print(classification_report(y_test, y_pred))\n",
    "print(time.process_time() - start)"
   ]
  },
  {
   "source": [
    "0=Abnormal\n",
    "1=Normal"
   ],
   "cell_type": "markdown",
   "metadata": {}
  },
  {
   "cell_type": "code",
   "execution_count": 26,
   "metadata": {},
   "outputs": [
    {
     "output_type": "stream",
     "name": "stdout",
     "text": [
      "              precision    recall  f1-score   support\n\n           0       0.97      0.66      0.78       997\n           1       0.93      1.00      0.96      4355\n\n    accuracy                           0.93      5352\n   macro avg       0.95      0.83      0.87      5352\nweighted avg       0.94      0.93      0.93      5352\n\n"
     ]
    }
   ],
   "source": [
    "y_pred_val = model.predict(X_val)\n",
    "print(classification_report(y_val, y_pred_val))"
   ]
  },
  {
   "source": [
    "## Machine type pred"
   ],
   "cell_type": "markdown",
   "metadata": {}
  },
  {
   "cell_type": "code",
   "execution_count": 27,
   "metadata": {},
   "outputs": [],
   "source": [
    "f=np.ones(16650, dtype=int)\n",
    "p=(np.ones(12615, dtype=int))+1\n",
    "s=(np.ones(12282, dtype=int))+2\n",
    "v=(np.ones(12510, dtype=int))+3"
   ]
  },
  {
   "cell_type": "code",
   "execution_count": 30,
   "metadata": {},
   "outputs": [],
   "source": [
    "mach=np.concatenate((f,p,s,v))"
   ]
  },
  {
   "cell_type": "code",
   "execution_count": 31,
   "metadata": {},
   "outputs": [],
   "source": [
    "y = mach"
   ]
  },
  {
   "cell_type": "code",
   "execution_count": 32,
   "metadata": {},
   "outputs": [],
   "source": [
    "X_train, X_test, y_train, y_test = train_test_split(\n",
    "    X, \n",
    "    y, \n",
    "    test_size=0.3, \n",
    "    random_state=42\n",
    ")\n",
    "X_test, X_val, y_test, y_val = train_test_split(\n",
    "    X_test, \n",
    "    y_test, \n",
    "    test_size=0.33, \n",
    "    random_state=42\n",
    ")"
   ]
  },
  {
   "cell_type": "code",
   "execution_count": 33,
   "metadata": {},
   "outputs": [
    {
     "output_type": "stream",
     "name": "stdout",
     "text": [
      "Random Forest Model's accuracy on training set is 100.00%\n",
      "Random Forest Model's accuracy on test set is 94.07%\n",
      "28.265625\n"
     ]
    }
   ],
   "source": [
    "start = time.process_time()\n",
    "########## Tuned Random Forest #######\n",
    "model = RandomForestClassifier(\n",
    "    n_estimators = 50, \n",
    "    criterion ='entropy',\n",
    "    warm_start = True,\n",
    "    max_features = 'sqrt',\n",
    "    oob_score = 'True', \n",
    "    random_state=42  \n",
    ") \n",
    "\n",
    "model.fit(X_train, y_train)\n",
    "\n",
    "print(f'Random Forest Model\\'s accuracy on training set is {100*model.score(X_train, y_train):.2f}%')\n",
    "print(f'Random Forest Model\\'s accuracy on test set is {100*model.score(X_test, y_test):.2f}%')\n",
    "\n",
    "print(time.process_time() - start)"
   ]
  },
  {
   "cell_type": "code",
   "execution_count": 34,
   "metadata": {},
   "outputs": [
    {
     "output_type": "stream",
     "name": "stdout",
     "text": [
      "              precision    recall  f1-score   support\n\n           1       0.94      0.93      0.93      3381\n           2       0.90      0.90      0.90      2509\n           3       0.93      0.94      0.94      2490\n           4       1.00      1.00      1.00      2486\n\n    accuracy                           0.94     10866\n   macro avg       0.94      0.94      0.94     10866\nweighted avg       0.94      0.94      0.94     10866\n\n0.1875\n"
     ]
    }
   ],
   "source": [
    "start = time.process_time()\n",
    "y_pred = model.predict(X_test)\n",
    "print(classification_report(y_test, y_pred))\n",
    "print(time.process_time() - start)"
   ]
  },
  {
   "cell_type": "code",
   "execution_count": 35,
   "metadata": {},
   "outputs": [
    {
     "output_type": "stream",
     "name": "stdout",
     "text": [
      "              precision    recall  f1-score   support\n\n           1       0.95      0.94      0.95      1664\n           2       0.91      0.91      0.91      1240\n           3       0.94      0.94      0.94      1254\n           4       1.00      0.99      1.00      1194\n\n    accuracy                           0.95      5352\n   macro avg       0.95      0.95      0.95      5352\nweighted avg       0.95      0.95      0.95      5352\n\n"
     ]
    }
   ],
   "source": [
    "y_pred_val = model.predict(X_val)\n",
    "print(classification_report(y_val, y_pred_val))"
   ]
  },
  {
   "cell_type": "code",
   "execution_count": null,
   "metadata": {},
   "outputs": [],
   "source": []
  }
 ]
}