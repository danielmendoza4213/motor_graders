{
 "metadata": {
  "language_info": {
   "codemirror_mode": {
    "name": "ipython",
    "version": 3
   },
   "file_extension": ".py",
   "mimetype": "text/x-python",
   "name": "python",
   "nbconvert_exporter": "python",
   "pygments_lexer": "ipython3",
   "version": "3.8.5-final"
  },
  "orig_nbformat": 2,
  "kernelspec": {
   "name": "python3",
   "display_name": "Python 3.8.5 64-bit (conda)",
   "metadata": {
    "interpreter": {
     "hash": "13427881f06f13311079f5221e5dd632fdf9146891f6da22d47a93dcb9272d3a"
    }
   }
  }
 },
 "nbformat": 4,
 "nbformat_minor": 2,
 "cells": [
  {
   "cell_type": "code",
   "execution_count": 35,
   "metadata": {},
   "outputs": [],
   "source": [
    "import pandas as pd\n",
    "import numpy as np\n",
    "from sklearn.model_selection import train_test_split\n",
    "from sklearn.ensemble import RandomForestClassifier\n",
    "from sklearn.metrics import classification_report\n",
    "from sklearn.metrics import plot_roc_curve\n",
    "from sklearn.metrics import roc_curve, auc\n",
    "from sklearn.metrics import precision_recall_curve, average_precision_score, auc\n",
    "import time"
   ]
  },
  {
   "cell_type": "code",
   "execution_count": 15,
   "metadata": {},
   "outputs": [],
   "source": [
    "dfF=pd.read_csv('../Features/df_fan_feature.csv')\r\n",
    "dfP=pd.read_csv('../Features/df_pump_feature.csv')\r\n",
    "dfS=pd.read_csv('../Features/df_slider_feature.csv')\r\n",
    "dfV=pd.read_csv('../Features/df_valve_feature.csv')\r\n",
    "TF=pd.read_csv('../Features/df_fan_target.csv')\r\n",
    "TP=pd.read_csv('../Features/df_pump_target.csv')\r\n",
    "TS=pd.read_csv('../Features/df_slider_target.csv')\r\n",
    "TV=pd.read_csv('../Features/df_valve_target.csv')\r\n",
    "df_all=((dfF.append(dfP, ignore_index=True)).append(dfS, ignore_index=True)).append(dfV, ignore_index=True)\r\n",
    "t_all=((TF.append(TP, ignore_index=True)).append(TS, ignore_index=True)).append(TV, ignore_index=True)\r\n",
    "df_all.to_csv(\"df_all_features.csv\", index=False)\r\n",
    "t_all.to_csv(\"df_all_targets.csv\", index=False)\r\n"
   ]
  },
  {
   "cell_type": "code",
   "execution_count": 18,
   "metadata": {},
   "outputs": [],
   "source": [
    "X = df_all\n",
    "y = t_all.values.ravel()"
   ]
  },
  {
   "cell_type": "code",
   "execution_count": 22,
   "metadata": {},
   "outputs": [],
   "source": [
    "X_train, X_test, y_train, y_test = train_test_split(\n",
    "    X, \n",
    "    y, \n",
    "    test_size=0.2, \n",
    "    random_state=69\n",
    ")\n",
    "X_train, X_val, y_train, y_val = train_test_split(\n",
    "    X_train, \n",
    "    y_train, \n",
    "    test_size=0.05, \n",
    "    random_state=69\n",
    ")"
   ]
  },
  {
   "cell_type": "code",
   "execution_count": 25,
   "metadata": {},
   "outputs": [
    {
     "output_type": "stream",
     "name": "stdout",
     "text": [
      "Random Forest Model's accuracy on training set is 99.99%\n",
      "Random Forest Model's accuracy on test set is 93.53%\n",
      "32.09375\n"
     ]
    }
   ],
   "source": [
    "start = time.process_time()\n",
    "########## Tuned Random Forest #######\n",
    "model = RandomForestClassifier(\n",
    "    n_estimators = 50, \n",
    "    criterion ='entropy',\n",
    "    warm_start = True,\n",
    "    max_features = 'sqrt',\n",
    "    oob_score = 'True', \n",
    "    random_state=42  \n",
    ") \n",
    "\n",
    "model.fit(X_train, y_train)\n",
    "\n",
    "print(f'Random Forest Model\\'s accuracy on training set is {100*model.score(X_train, y_train):.2f}%')\n",
    "print(f'Random Forest Model\\'s accuracy on test set is {100*model.score(X_test, y_test):.2f}%')\n",
    "\n",
    "print(time.process_time() - start)"
   ]
  },
  {
   "cell_type": "code",
   "execution_count": 26,
   "metadata": {},
   "outputs": [
    {
     "output_type": "stream",
     "name": "stdout",
     "text": [
      "              precision    recall  f1-score   support\n\n           0       0.97      0.66      0.79      1936\n           1       0.93      0.99      0.96      8876\n\n    accuracy                           0.94     10812\n   macro avg       0.95      0.83      0.87     10812\nweighted avg       0.94      0.94      0.93     10812\n\n0.21875\n"
     ]
    }
   ],
   "source": [
    "start = time.process_time()\n",
    "y_pred = model.predict(X_test)\n",
    "print(classification_report(y_test, y_pred))\n",
    "print(time.process_time() - start)"
   ]
  },
  {
   "source": [
    "0=Abnormal\n",
    "1=Normal"
   ],
   "cell_type": "markdown",
   "metadata": {}
  },
  {
   "cell_type": "code",
   "execution_count": 27,
   "metadata": {},
   "outputs": [
    {
     "output_type": "stream",
     "name": "stdout",
     "text": [
      "              precision    recall  f1-score   support\n\n           0       0.96      0.68      0.80       414\n           1       0.93      0.99      0.96      1749\n\n    accuracy                           0.93      2163\n   macro avg       0.95      0.84      0.88      2163\nweighted avg       0.94      0.93      0.93      2163\n\n"
     ]
    }
   ],
   "source": [
    "y_pred_val = model.predict(X_val)\n",
    "print(classification_report(y_val, y_pred_val))"
   ]
  },
  {
   "cell_type": "code",
   "execution_count": 43,
   "metadata": {},
   "outputs": [],
   "source": [
    "f=np.ones(16650, dtype=int)\n",
    "p=(np.ones(12615, dtype=int))+1\n",
    "s=(np.ones(12282, dtype=int))+2\n",
    "v=(np.ones(12510, dtype=int))+3"
   ]
  },
  {
   "cell_type": "code",
   "execution_count": 50,
   "metadata": {},
   "outputs": [],
   "source": [
    "mach=np.concatenate((f,p,s,v))"
   ]
  },
  {
   "cell_type": "code",
   "execution_count": 51,
   "metadata": {},
   "outputs": [
    {
     "output_type": "execute_result",
     "data": {
      "text/plain": [
       "(54057,)"
      ]
     },
     "metadata": {},
     "execution_count": 51
    }
   ],
   "source": [
    "mach.shape"
   ]
  },
  {
   "cell_type": "code",
   "execution_count": null,
   "metadata": {},
   "outputs": [],
   "source": []
  }
 ]
}