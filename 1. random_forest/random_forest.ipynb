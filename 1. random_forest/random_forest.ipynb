{
 "metadata": {
  "language_info": {
   "codemirror_mode": {
    "name": "ipython",
    "version": 3
   },
   "file_extension": ".py",
   "mimetype": "text/x-python",
   "name": "python",
   "nbconvert_exporter": "python",
   "pygments_lexer": "ipython3",
   "version": "3.8.5-final"
  },
  "orig_nbformat": 2,
  "kernelspec": {
   "name": "python385jvsc74a57bd013427881f06f13311079f5221e5dd632fdf9146891f6da22d47a93dcb9272d3a",
   "display_name": "Python 3.8.5 64-bit ('Daniel': virtualenv)"
  }
 },
 "nbformat": 4,
 "nbformat_minor": 2,
 "cells": [
  {
   "cell_type": "code",
   "execution_count": 34,
   "metadata": {},
   "outputs": [],
   "source": [
    "import pandas as pd\n",
    "from numpy import mean\n",
    "\n",
    "from sklearn.model_selection import train_test_split\n",
    "\n",
    "\n",
    "from imblearn.ensemble import BalancedRandomForestClassifier\n",
    "from sklearn.model_selection import cross_val_score\n",
    "from sklearn.model_selection import RepeatedStratifiedKFold\n",
    "from sklearn.metrics import classification_report\n",
    "\n",
    "import joblib\n",
    "from sklearn.ensemble import RandomForestClassifier\n",
    "\n",
    "\n",
    "from sklearn.metrics import plot_roc_curve\n",
    "from sklearn.metrics import roc_curve, auc\n",
    "from sklearn.metrics import precision_recall_curve, average_precision_score, auc\n",
    "import time"
   ]
  },
  {
   "source": [
    "## Load Features and Targets"
   ],
   "cell_type": "markdown",
   "metadata": {}
  },
  {
   "cell_type": "code",
   "execution_count": 49,
   "metadata": {},
   "outputs": [],
   "source": [
    "FF=pd.read_csv('../Features/df_fan_feature.csv')\n",
    "FP=pd.read_csv('../Features/df_pump_feature.csv')\n",
    "FS=pd.read_csv('../Features/df_slider_feature.csv')\n",
    "FV=pd.read_csv('../Features/df_valve_feature.csv')\n",
    "TF=pd.read_csv('../Features/df_fan_target.csv')\n",
    "TP=pd.read_csv('../Features/df_pump_target.csv')\n",
    "TS=pd.read_csv('../Features/df_slider_target.csv')\n",
    "TV=pd.read_csv('../Features/df_valve_target.csv')\n",
    "Fall=pd.read_csv('../Features/df_all_features.csv')\n",
    "Tall=pd.read_csv('../Features/df_all_targets.csv')\n",
    "Machine=pd.read_csv('../Features/mach_type.csv')\n"
   ]
  },
  {
   "source": [
    "## Dataset splitting"
   ],
   "cell_type": "markdown",
   "metadata": {}
  },
  {
   "cell_type": "code",
   "execution_count": 19,
   "metadata": {},
   "outputs": [],
   "source": [
    "#Slit Dataset in 3. Test (70%) , Train ( 2%) and Validation set (10%)\n",
    "def split(F, T):\n",
    "    X_train , X_test, y_train, y_test  = train_test_split( F, T.values.ravel(), random_state=42)\n",
    "    X_test, X_val, y_test, y_val = train_test_split(X_test, y_test, test_size=0.33, random_state=42)\n",
    "    return X_train, y_train, X_test, y_test, X_val, y_val\n",
    "\n",
    "#For all\n",
    "X_train_all, y_train_all, X_test_all, y_test_all, X_val_all, y_val_all=split(Fall, Tall)\n",
    "#For FAN\n",
    "X_train_fan, y_train_fan, X_test_fan, y_test_fan, X_val_fan, y_val_fan=split(FF, TF)\n",
    "#For VALVE\n",
    "X_train_valve, y_train_valve, X_test_valve, y_test_valve, X_val_valve, y_val_valve=split(FV, TV)\n",
    "#For PUMP\n",
    "X_train_pump, y_train_pump, X_test_pump, y_test_pump, X_val_pump, y_val_pump=split(FP, TP)\n",
    "#For SLIDER\n",
    "X_train_slider, y_train_slider, X_test_slider, y_test_slider, X_val_slider, y_val_slider=split(FS, TS)\n"
   ]
  },
  {
   "source": [
    "## Models"
   ],
   "cell_type": "markdown",
   "metadata": {}
  },
  {
   "cell_type": "code",
   "execution_count": 54,
   "metadata": {},
   "outputs": [],
   "source": [
    "def Balanced_RF(a, b, c, d, e, f): # a, b= Training sets / c,d = testing sets / e, f = validation sets\n",
    "    start = time.process_time()\n",
    "    model = BalancedRandomForestClassifier(n_estimators=200)\n",
    "    #X_train, y_train\n",
    "    model.fit(a, b)\n",
    "    #evaluation procedure\n",
    "    cv = RepeatedStratifiedKFold(n_splits=10, n_repeats=3, random_state=42)\n",
    "    #model evaluation\n",
    "    scores= cross_val_score(model, c, d, scoring='roc_auc', cv=cv, n_jobs=-1)\n",
    "    print(f'Random Forest Model\\'s accuracy on test set is {100*model.score(X_test_all, y_test_all):.2f}%')\n",
    "    print('Mean ROC AUC: %.3f' % mean(scores))\n",
    "    #first report\n",
    "    y_pred = model.predict(c)\n",
    "    print('Report  Test / Test Predict')\n",
    "    print(classification_report(d, y_pred))\n",
    "     #second report\n",
    "    y_pred_val = model.predict(e)\n",
    "    print('Report  Validation / Test Validation')\n",
    "    print(classification_report(f, y_pred_val))\n",
    "    print('Processing time:',time.process_time() - start)\n",
    "    return model"
   ]
  },
  {
   "source": [
    "### ALL\n",
    "#### 0 = Abnormal / 1 = Normal "
   ],
   "cell_type": "markdown",
   "metadata": {}
  },
  {
   "cell_type": "code",
   "execution_count": 39,
   "metadata": {},
   "outputs": [
    {
     "output_type": "stream",
     "name": "stdout",
     "text": [
      "Random Forest Model's accuracy on test set is 89.97%\n",
      "Mean ROC AUC: 0.923\n",
      "Report  Test / Test Predict\n",
      "              precision    recall  f1-score   support\n",
      "\n",
      " Abnormal(0)       0.68      0.86      0.76      1655\n",
      "   Normal(1)       0.97      0.91      0.94      7400\n",
      "\n",
      "    accuracy                           0.90      9055\n",
      "   macro avg       0.82      0.88      0.85      9055\n",
      "weighted avg       0.91      0.90      0.90      9055\n",
      "\n",
      "Report  Validation / Test Validation\n",
      "              precision    recall  f1-score   support\n",
      "\n",
      "           0       0.69      0.84      0.76       836\n",
      "           1       0.96      0.91      0.94      3624\n",
      "\n",
      "    accuracy                           0.90      4460\n",
      "   macro avg       0.83      0.88      0.85      4460\n",
      "weighted avg       0.91      0.90      0.90      4460\n",
      "\n",
      "Processing time: 26.96875\n"
     ]
    }
   ],
   "source": [
    "model_all=Balanced_RF(X_train_all, y_train_all, X_test_all, y_test_all, X_val_all, y_val_all)"
   ]
  },
  {
   "source": [
    "### FAN"
   ],
   "cell_type": "markdown",
   "metadata": {}
  },
  {
   "cell_type": "code",
   "execution_count": 55,
   "metadata": {},
   "outputs": [
    {
     "output_type": "stream",
     "name": "stdout",
     "text": [
      "Random Forest Model's accuracy on test set is 48.60%\n",
      "Mean ROC AUC: 0.944\n",
      "Report  Test / Test Predict\n",
      "              precision    recall  f1-score   support\n",
      "\n",
      "           0       0.80      0.87      0.84       734\n",
      "           1       0.95      0.92      0.94      2055\n",
      "\n",
      "    accuracy                           0.91      2789\n",
      "   macro avg       0.88      0.90      0.89      2789\n",
      "weighted avg       0.91      0.91      0.91      2789\n",
      "\n",
      "Report  Validation / Test Validation\n",
      "              precision    recall  f1-score   support\n",
      "\n",
      "           0       0.81      0.89      0.85       369\n",
      "           1       0.96      0.92      0.94      1005\n",
      "\n",
      "    accuracy                           0.91      1374\n",
      "   macro avg       0.88      0.91      0.89      1374\n",
      "weighted avg       0.92      0.91      0.91      1374\n",
      "\n",
      "Processing time: 10.1875\n"
     ]
    }
   ],
   "source": [
    "model_fan=Balanced_RF(X_train_fan, y_train_fan, X_test_fan, y_test_fan, X_val_fan, y_val_fan)"
   ]
  },
  {
   "source": [
    "### VALVE"
   ],
   "cell_type": "markdown",
   "metadata": {}
  },
  {
   "cell_type": "code",
   "execution_count": 63,
   "metadata": {},
   "outputs": [
    {
     "output_type": "stream",
     "name": "stdout",
     "text": [
      "Random Forest Model's accuracy on test set is 36.63%\n",
      "Mean ROC AUC: 0.901\n",
      "Report  Test / Test Predict\n",
      "              precision    recall  f1-score   support\n",
      "\n",
      "           0       0.55      0.82      0.66       246\n",
      "           1       0.97      0.91      0.94      1849\n",
      "\n",
      "    accuracy                           0.90      2095\n",
      "   macro avg       0.76      0.87      0.80      2095\n",
      "weighted avg       0.92      0.90      0.91      2095\n",
      "\n",
      "Report  Validation / Test Validation\n",
      "              precision    recall  f1-score   support\n",
      "\n",
      "           0       0.62      0.76      0.68       131\n",
      "           1       0.96      0.93      0.95       902\n",
      "\n",
      "    accuracy                           0.91      1033\n",
      "   macro avg       0.79      0.85      0.82      1033\n",
      "weighted avg       0.92      0.91      0.91      1033\n",
      "\n",
      "Processing time: 4.375\n"
     ]
    }
   ],
   "source": [
    "model_valve=Balanced_RF(X_train_valve, y_train_valve, X_test_valve, y_test_valve, X_val_valve, y_val_valve)\n"
   ]
  },
  {
   "source": [
    "### PUMP"
   ],
   "cell_type": "markdown",
   "metadata": {}
  },
  {
   "cell_type": "code",
   "execution_count": 64,
   "metadata": {},
   "outputs": [
    {
     "output_type": "stream",
     "name": "stdout",
     "text": [
      "Random Forest Model's accuracy on test set is 68.56%\n",
      "Mean ROC AUC: 0.888\n",
      "Report  Test / Test Predict\n",
      "              precision    recall  f1-score   support\n",
      "\n",
      "           0       0.44      0.80      0.57       248\n",
      "           1       0.97      0.87      0.92      1865\n",
      "\n",
      "    accuracy                           0.86      2113\n",
      "   macro avg       0.71      0.83      0.74      2113\n",
      "weighted avg       0.91      0.86      0.87      2113\n",
      "\n",
      "Report  Validation / Test Validation\n",
      "              precision    recall  f1-score   support\n",
      "\n",
      "           0       0.47      0.80      0.59       123\n",
      "           1       0.97      0.88      0.92       918\n",
      "\n",
      "    accuracy                           0.87      1041\n",
      "   macro avg       0.72      0.84      0.76      1041\n",
      "weighted avg       0.91      0.87      0.88      1041\n",
      "\n",
      "Processing time: 5.625\n"
     ]
    }
   ],
   "source": [
    "model_pump=Balanced_RF(X_train_pump, y_train_pump, X_test_pump, y_test_pump, X_val_pump, y_val_pump)\n",
    "\n"
   ]
  },
  {
   "source": [
    "### SLIDER"
   ],
   "cell_type": "markdown",
   "metadata": {}
  },
  {
   "cell_type": "code",
   "execution_count": 65,
   "metadata": {},
   "outputs": [
    {
     "output_type": "stream",
     "name": "stdout",
     "text": [
      "Random Forest Model's accuracy on test set is 59.37%\n",
      "Mean ROC AUC: 0.968\n",
      "Report  Test / Test Predict\n",
      "              precision    recall  f1-score   support\n",
      "\n",
      "           0       0.83      0.90      0.86       469\n",
      "           1       0.97      0.94      0.96      1588\n",
      "\n",
      "    accuracy                           0.93      2057\n",
      "   macro avg       0.90      0.92      0.91      2057\n",
      "weighted avg       0.94      0.93      0.94      2057\n",
      "\n",
      "Report  Validation / Test Validation\n",
      "              precision    recall  f1-score   support\n",
      "\n",
      "           0       0.79      0.90      0.84       219\n",
      "           1       0.97      0.93      0.95       795\n",
      "\n",
      "    accuracy                           0.93      1014\n",
      "   macro avg       0.88      0.92      0.90      1014\n",
      "weighted avg       0.93      0.93      0.93      1014\n",
      "\n",
      "Processing time: 7.15625\n"
     ]
    }
   ],
   "source": [
    "model_slider=Balanced_RF(X_train_slider, y_train_slider, X_test_slider, y_test_slider, X_val_slider, y_val_slider)"
   ]
  },
  {
   "source": [
    "## Machine type pred"
   ],
   "cell_type": "markdown",
   "metadata": {}
  },
  {
   "cell_type": "code",
   "execution_count": 56,
   "metadata": {},
   "outputs": [],
   "source": [
    "X_train_m, y_train_m, X_test_m, y_test_m, X_val_m, y_val_m=split(Fall, Machine)"
   ]
  },
  {
   "cell_type": "code",
   "execution_count": 61,
   "metadata": {},
   "outputs": [],
   "source": [
    "def normal_RF(a, b, c, d, e, f):\n",
    "    start = time.process_time()\n",
    "    model = RandomForestClassifier(n_estimators = 50, criterion ='entropy', warm_start = True, max_features = 'sqrt', oob_score = 'True', random_state=42)\n",
    "    #X_train, y_train\n",
    "    model.fit(a, b)\n",
    "    print(f'Random Forest Model\\'s accuracy on training set is {100*model.score(a, b):.2f}%')\n",
    "    print(f'Random Forest Model\\'s accuracy on test set is {100*model.score(c, d):.2f}%')\n",
    "\n",
    "    #first report\n",
    "    y_pred = model.predict(c)\n",
    "    print('Report  Test / Test Predict')\n",
    "    print(classification_report(d, y_pred))\n",
    "     #second report\n",
    "    y_pred_val = model.predict(e)\n",
    "    print('Report  Validation / Test Validation')\n",
    "    print(classification_report(f, y_pred_val))\n",
    "    print('Processing time:',time.process_time() - start)\n",
    "    return model"
   ]
  },
  {
   "cell_type": "code",
   "execution_count": 62,
   "metadata": {},
   "outputs": [
    {
     "output_type": "stream",
     "name": "stdout",
     "text": [
      "Random Forest Model's accuracy on training set is 100.00%\n",
      "Random Forest Model's accuracy on test set is 94.30%\n",
      "Report  Test / Test Predict\n",
      "              precision    recall  f1-score   support\n",
      "\n",
      "           1       0.94      0.93      0.94      2806\n",
      "           2       0.90      0.91      0.90      2106\n",
      "           3       0.94      0.94      0.94      2112\n",
      "           4       1.00      1.00      1.00      2031\n",
      "\n",
      "    accuracy                           0.94      9055\n",
      "   macro avg       0.94      0.94      0.94      9055\n",
      "weighted avg       0.94      0.94      0.94      9055\n",
      "\n",
      "Report  Validation / Test Validation\n",
      "              precision    recall  f1-score   support\n",
      "\n",
      "           1       0.94      0.93      0.93      1402\n",
      "           2       0.90      0.91      0.91      1017\n",
      "           3       0.95      0.94      0.94      1023\n",
      "           4       1.00      1.00      1.00      1018\n",
      "\n",
      "    accuracy                           0.94      4460\n",
      "   macro avg       0.94      0.95      0.95      4460\n",
      "weighted avg       0.94      0.94      0.94      4460\n",
      "\n",
      "Processing time: 27.859375\n"
     ]
    }
   ],
   "source": [
    "model_machine=normal_RF(X_train_m, y_train_m, X_test_m, y_test_m, X_val_m, y_val_m)"
   ]
  },
  {
   "source": [
    "## Model export"
   ],
   "cell_type": "markdown",
   "metadata": {}
  },
  {
   "cell_type": "code",
   "execution_count": 67,
   "metadata": {},
   "outputs": [
    {
     "output_type": "execute_result",
     "data": {
      "text/plain": [
       "['model_machine']"
      ]
     },
     "metadata": {},
     "execution_count": 67
    }
   ],
   "source": [
    "joblib.dump(model_all, filename='model_all', compress=3)\n",
    "joblib.dump(model_fan, filename='model_fan', compress=3)\n",
    "joblib.dump(model_valve, filename='model_valve', compress=3)\n",
    "joblib.dump(model_pump, filename='model_pump', compress=3)\n",
    "joblib.dump(model_slider, filename='model_slider', compress=3)\n",
    "joblib.dump(model_machine, filename='model_machine', compress=3)"
   ]
  }
 ]
}