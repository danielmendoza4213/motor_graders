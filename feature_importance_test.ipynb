{
 "cells": [
  {
   "cell_type": "code",
   "execution_count": 14,
   "id": "impaired-centre",
   "metadata": {},
   "outputs": [],
   "source": [
    "import numpy as np\n",
    "import pandas as pd\n",
    "import matplotlib.pyplot as plt\n",
    "from sklearn.ensemble import RandomForestRegressor"
   ]
  },
  {
   "cell_type": "code",
   "execution_count": 15,
   "id": "dramatic-render",
   "metadata": {},
   "outputs": [],
   "source": [
    "df_features = pd.read_csv(\"features_df.csv\")\n",
    "df_target = pd.read_csv(\"target_df.csv\")"
   ]
  },
  {
   "cell_type": "code",
   "execution_count": 16,
   "id": "polished-harrison",
   "metadata": {},
   "outputs": [],
   "source": [
    "df_target[\"normality\"] = df_target.iloc[:, 1].replace(('normal', 'abnormal'), (0, 1))"
   ]
  },
  {
   "cell_type": "code",
   "execution_count": 17,
   "id": "documented-employment",
   "metadata": {},
   "outputs": [],
   "source": [
    "df_target.drop(df_target.columns[0], axis=1 , inplace=True)"
   ]
  },
  {
   "cell_type": "code",
   "execution_count": 18,
   "id": "rolled-barrier",
   "metadata": {},
   "outputs": [],
   "source": [
    "df_features.drop(df_features.columns[0], axis=1 , inplace=True)"
   ]
  },
  {
   "cell_type": "code",
   "execution_count": 19,
   "id": "innovative-profit",
   "metadata": {},
   "outputs": [
    {
     "data": {
      "text/plain": [
       "(4170, 160)"
      ]
     },
     "execution_count": 19,
     "metadata": {},
     "output_type": "execute_result"
    }
   ],
   "source": [
    "df_features.shape"
   ]
  },
  {
   "cell_type": "code",
   "execution_count": 20,
   "id": "established-auckland",
   "metadata": {},
   "outputs": [
    {
     "data": {
      "text/plain": [
       "(4170, 2)"
      ]
     },
     "execution_count": 20,
     "metadata": {},
     "output_type": "execute_result"
    }
   ],
   "source": [
    "df_target.shape"
   ]
  },
  {
   "cell_type": "code",
   "execution_count": 21,
   "id": "comprehensive-prison",
   "metadata": {},
   "outputs": [],
   "source": [
    "X = df_features \n",
    "y = df_target[\"normality\"]"
   ]
  },
  {
   "cell_type": "code",
   "execution_count": 22,
   "id": "incomplete-oliver",
   "metadata": {},
   "outputs": [
    {
     "name": "stdout",
     "output_type": "stream",
     "text": [
      "Feature: 0, Score: 0.00036\n",
      "Feature: 1, Score: 0.00007\n",
      "Feature: 2, Score: 0.00010\n",
      "Feature: 3, Score: 0.00017\n",
      "Feature: 4, Score: 0.00019\n",
      "Feature: 5, Score: 0.00016\n",
      "Feature: 6, Score: 0.00018\n",
      "Feature: 7, Score: 0.00008\n",
      "Feature: 8, Score: 0.00004\n",
      "Feature: 9, Score: 0.00037\n",
      "Feature: 10, Score: 0.00016\n",
      "Feature: 11, Score: 0.00032\n",
      "Feature: 12, Score: 0.00008\n",
      "Feature: 13, Score: 0.00009\n",
      "Feature: 14, Score: 0.00019\n",
      "Feature: 15, Score: 0.00005\n",
      "Feature: 16, Score: 0.00020\n",
      "Feature: 17, Score: 0.00018\n",
      "Feature: 18, Score: 0.00073\n",
      "Feature: 19, Score: 0.00058\n",
      "Feature: 20, Score: 0.00013\n",
      "Feature: 21, Score: 0.00030\n",
      "Feature: 22, Score: 0.00048\n",
      "Feature: 23, Score: 0.00016\n",
      "Feature: 24, Score: 0.00207\n",
      "Feature: 25, Score: 0.00096\n",
      "Feature: 26, Score: 0.00029\n",
      "Feature: 27, Score: 0.00003\n",
      "Feature: 28, Score: 0.00013\n",
      "Feature: 29, Score: 0.00012\n",
      "Feature: 30, Score: 0.00016\n",
      "Feature: 31, Score: 0.00015\n",
      "Feature: 32, Score: 0.00042\n",
      "Feature: 33, Score: 0.00028\n",
      "Feature: 34, Score: 0.00173\n",
      "Feature: 35, Score: 0.00263\n",
      "Feature: 36, Score: 0.01518\n",
      "Feature: 37, Score: 0.02343\n",
      "Feature: 38, Score: 0.02286\n",
      "Feature: 39, Score: 0.00145\n",
      "Feature: 40, Score: 0.00079\n",
      "Feature: 41, Score: 0.00008\n",
      "Feature: 42, Score: 0.00035\n",
      "Feature: 43, Score: 0.00011\n",
      "Feature: 44, Score: 0.00010\n",
      "Feature: 45, Score: 0.00814\n",
      "Feature: 46, Score: 0.00134\n",
      "Feature: 47, Score: 0.00023\n",
      "Feature: 48, Score: 0.00033\n",
      "Feature: 49, Score: 0.00009\n",
      "Feature: 50, Score: 0.00015\n",
      "Feature: 51, Score: 0.00029\n",
      "Feature: 52, Score: 0.00030\n",
      "Feature: 53, Score: 0.00019\n",
      "Feature: 54, Score: 0.00028\n",
      "Feature: 55, Score: 0.00044\n",
      "Feature: 56, Score: 0.00041\n",
      "Feature: 57, Score: 0.00044\n",
      "Feature: 58, Score: 0.00018\n",
      "Feature: 59, Score: 0.00011\n",
      "Feature: 60, Score: 0.00013\n",
      "Feature: 61, Score: 0.00006\n",
      "Feature: 62, Score: 0.00026\n",
      "Feature: 63, Score: 0.00076\n",
      "Feature: 64, Score: 0.00008\n",
      "Feature: 65, Score: 0.00152\n",
      "Feature: 66, Score: 0.00103\n",
      "Feature: 67, Score: 0.00082\n",
      "Feature: 68, Score: 0.00035\n",
      "Feature: 69, Score: 0.00068\n",
      "Feature: 70, Score: 0.00024\n",
      "Feature: 71, Score: 0.00025\n",
      "Feature: 72, Score: 0.00274\n",
      "Feature: 73, Score: 0.00118\n",
      "Feature: 74, Score: 0.11831\n",
      "Feature: 75, Score: 0.00173\n",
      "Feature: 76, Score: 0.00061\n",
      "Feature: 77, Score: 0.00478\n",
      "Feature: 78, Score: 0.00033\n",
      "Feature: 79, Score: 0.00045\n",
      "Feature: 80, Score: 0.00024\n",
      "Feature: 81, Score: 0.00033\n",
      "Feature: 82, Score: 0.00016\n",
      "Feature: 83, Score: 0.00051\n",
      "Feature: 84, Score: 0.00045\n",
      "Feature: 85, Score: 0.00039\n",
      "Feature: 86, Score: 0.00027\n",
      "Feature: 87, Score: 0.00015\n",
      "Feature: 88, Score: 0.00012\n",
      "Feature: 89, Score: 0.00019\n",
      "Feature: 90, Score: 0.00032\n",
      "Feature: 91, Score: 0.00002\n",
      "Feature: 92, Score: 0.00110\n",
      "Feature: 93, Score: 0.00120\n",
      "Feature: 94, Score: 0.04519\n",
      "Feature: 95, Score: 0.00087\n",
      "Feature: 96, Score: 0.00088\n",
      "Feature: 97, Score: 0.00095\n",
      "Feature: 98, Score: 0.00141\n",
      "Feature: 99, Score: 0.00173\n",
      "Feature: 100, Score: 0.00850\n",
      "Feature: 101, Score: 0.04080\n",
      "Feature: 102, Score: 0.01085\n",
      "Feature: 103, Score: 0.00094\n",
      "Feature: 104, Score: 0.00031\n",
      "Feature: 105, Score: 0.01131\n",
      "Feature: 106, Score: 0.00077\n",
      "Feature: 107, Score: 0.00011\n",
      "Feature: 108, Score: 0.00055\n",
      "Feature: 109, Score: 0.00152\n",
      "Feature: 110, Score: 0.00169\n",
      "Feature: 111, Score: 0.00077\n",
      "Feature: 112, Score: 0.01921\n",
      "Feature: 113, Score: 0.00303\n",
      "Feature: 114, Score: 0.04852\n",
      "Feature: 115, Score: 0.01257\n",
      "Feature: 116, Score: 0.00537\n",
      "Feature: 117, Score: 0.00060\n",
      "Feature: 118, Score: 0.00162\n",
      "Feature: 119, Score: 0.00051\n",
      "Feature: 120, Score: 0.02426\n",
      "Feature: 121, Score: 0.05467\n",
      "Feature: 122, Score: 0.00429\n",
      "Feature: 123, Score: 0.07687\n",
      "Feature: 124, Score: 0.03324\n",
      "Feature: 125, Score: 0.00108\n",
      "Feature: 126, Score: 0.00630\n",
      "Feature: 127, Score: 0.00254\n",
      "Feature: 128, Score: 0.00196\n",
      "Feature: 129, Score: 0.02509\n",
      "Feature: 130, Score: 0.01183\n",
      "Feature: 131, Score: 0.00706\n",
      "Feature: 132, Score: 0.02084\n",
      "Feature: 133, Score: 0.00227\n",
      "Feature: 134, Score: 0.00306\n",
      "Feature: 135, Score: 0.00098\n",
      "Feature: 136, Score: 0.22779\n",
      "Feature: 137, Score: 0.01363\n",
      "Feature: 138, Score: 0.01826\n",
      "Feature: 139, Score: 0.00205\n",
      "Feature: 140, Score: 0.00022\n",
      "Feature: 141, Score: 0.00028\n",
      "Feature: 142, Score: 0.00037\n",
      "Feature: 143, Score: 0.00015\n",
      "Feature: 144, Score: 0.00042\n",
      "Feature: 145, Score: 0.00023\n",
      "Feature: 146, Score: 0.00033\n",
      "Feature: 147, Score: 0.00014\n",
      "Feature: 148, Score: 0.00017\n",
      "Feature: 149, Score: 0.00113\n",
      "Feature: 150, Score: 0.00026\n",
      "Feature: 151, Score: 0.00044\n",
      "Feature: 152, Score: 0.00003\n",
      "Feature: 153, Score: 0.00026\n",
      "Feature: 154, Score: 0.00024\n",
      "Feature: 155, Score: 0.00017\n",
      "Feature: 156, Score: 0.00002\n",
      "Feature: 157, Score: 0.00191\n",
      "Feature: 158, Score: 0.00044\n",
      "Feature: 159, Score: 0.00084\n"
     ]
    },
    {
     "data": {
      "image/png": "[encoded data removed]",
      "text/plain": [
       "<Figure size 432x288 with 1 Axes>"
      ]
     },
     "metadata": {
      "needs_background": "light"
     },
     "output_type": "display_data"
    }
   ],
   "source": [
    "# define the model\n",
    "model = RandomForestRegressor()\n",
    "# fit the model\n",
    "model.fit(X, y)\n",
    "# get importance\n",
    "importance = model.feature_importances_\n",
    "# summarize feature importance\n",
    "for i,v in enumerate(importance):\n",
    "\tprint('Feature: %0d, Score: %.5f' % (i,v))\n",
    "# plot feature importance\n",
    "plt.bar([x for x in range(len(importance))], importance)\n",
    "plt.show()"
   ]
  },
  {
   "cell_type": "code",
   "execution_count": null,
   "id": "laden-interference",
   "metadata": {},
   "outputs": [],
   "source": []
  }
 ],
 "metadata": {
  "kernelspec": {
   "display_name": "Python 3",
   "language": "python",
   "name": "python3"
  },
  "language_info": {
   "codemirror_mode": {
    "name": "ipython",
    "version": 3
   },
   "file_extension": ".py",
   "mimetype": "text/x-python",
   "name": "python",
   "nbconvert_exporter": "python",
   "pygments_lexer": "ipython3",
   "version": "3.9.2"
  }
 },
 "nbformat": 4,
 "nbformat_minor": 5
}
