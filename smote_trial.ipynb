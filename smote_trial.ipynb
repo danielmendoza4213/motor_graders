{
 "cells": [
  {
   "cell_type": "code",
   "execution_count": 1,
   "id": "fluid-decimal",
   "metadata": {},
   "outputs": [],
   "source": [
    "import numpy as np\n",
    "import pandas as pd\n",
    "import os\n",
    "import matplotlib.pyplot as plt\n",
    "from sklearn.model_selection import train_test_split\n",
    "from sklearn.ensemble import RandomForestClassifier"
   ]
  },
  {
   "cell_type": "code",
   "execution_count": 2,
   "id": "aggressive-gates",
   "metadata": {},
   "outputs": [],
   "source": [
    "from sklearn.model_selection import cross_val_score\n",
    "from sklearn.model_selection import RepeatedStratifiedKFold"
   ]
  },
  {
   "cell_type": "code",
   "execution_count": 3,
   "id": "aboriginal-facility",
   "metadata": {},
   "outputs": [],
   "source": [
    "df_features = pd.read_csv(\"Features/df_all_features.csv\")\n",
    "df_targets = pd.read_csv(\"Features/df_all_targets.csv\")"
   ]
  },
  {
   "cell_type": "code",
   "execution_count": 4,
   "id": "considerable-kazakhstan",
   "metadata": {},
   "outputs": [],
   "source": [
    "X = df_features\n",
    "y = df_targets.values.ravel()"
   ]
  },
  {
   "cell_type": "code",
   "execution_count": 17,
   "id": "arabic-signature",
   "metadata": {},
   "outputs": [],
   "source": [
    "X_train, X_test, y_train, y_test = train_test_split(\n",
    "    X, \n",
    "    y, \n",
    "    test_size=0.3, \n",
    "    random_state=42\n",
    ")\n",
    "X_test_f, X_val, y_test_f, y_val = train_test_split(\n",
    "    X_test, \n",
    "    y_test, \n",
    "    test_size=0.33, \n",
    "    random_state=42\n",
    ")"
   ]
  },
  {
   "cell_type": "code",
   "execution_count": 19,
   "id": "affected-weekly",
   "metadata": {},
   "outputs": [
    {
     "name": "stdout",
     "output_type": "stream",
     "text": [
      "Random Forest Model's accuracy on training set is 96.78%\n",
      "Random Forest Model's accuracy on test set is 89.76%\n",
      "Mean ROC AUC: 0.930\n"
     ]
    }
   ],
   "source": [
    "from numpy import mean\n",
    "from imblearn.ensemble import BalancedRandomForestClassifier\n",
    "model_balanced = BalancedRandomForestClassifier(n_estimators=200)\n",
    "model_balanced.fit(X_train, y_train)\n",
    "# define evaluation procedure\n",
    "cv = RepeatedStratifiedKFold(n_splits=10, n_repeats=3, random_state=42)\n",
    "# evaluate model\n",
    "scores = cross_val_score(model_balanced, X_test_f, y_test_f, scoring='roc_auc', cv=cv, n_jobs=-1)\n",
    "# summarize performance\n",
    "print(f'Random Forest Model\\'s accuracy on training set is {100*model_balanced.score(X_train, y_train):.2f}%')\n",
    "print(f'Random Forest Model\\'s accuracy on test set is {100*model_balanced.score(X_test_f, y_test_f):.2f}%')\n",
    "print('Mean ROC AUC: %.3f' % mean(scores))"
   ]
  },
  {
   "cell_type": "code",
   "execution_count": 20,
   "id": "absolute-mining",
   "metadata": {},
   "outputs": [],
   "source": [
    "from imblearn.combine import SMOTEENN\n",
    "smenn = SMOTEENN()\n",
    "X_train_smenn, y_train_smenn = smenn.fit_resample(X_train, y_train)"
   ]
  },
  {
   "cell_type": "code",
   "execution_count": 21,
   "id": "bulgarian-therapy",
   "metadata": {},
   "outputs": [
    {
     "name": "stdout",
     "output_type": "stream",
     "text": [
      "Random Forest Model's accuracy on training set is 99.97%\n",
      "Random Forest Model's accuracy on test set is 90.82%\n",
      "Mean ROC AUC: 0.929\n"
     ]
    }
   ],
   "source": [
    "from numpy import mean\n",
    "from imblearn.ensemble import BalancedRandomForestClassifier\n",
    "model_balanced = BalancedRandomForestClassifier(n_estimators=200)\n",
    "model_balanced.fit(X_train_smenn, y_train_smenn)\n",
    "# define evaluation procedure\n",
    "cv = RepeatedStratifiedKFold(n_splits=10, n_repeats=3, random_state=42)\n",
    "# evaluate model\n",
    "scores = cross_val_score(model_balanced, X_test_f, y_test_f, scoring='roc_auc', cv=cv, n_jobs=-1)\n",
    "# summarize performance\n",
    "print(f'Random Forest Model\\'s accuracy on training set is {100*model_balanced.score(X_train_smenn, y_train_smenn):.2f}%')\n",
    "print(f'Random Forest Model\\'s accuracy on test set is {100*model_balanced.score(X_test_f, y_test_f):.2f}%')\n",
    "print('Mean ROC AUC: %.3f' % mean(scores))"
   ]
  },
  {
   "cell_type": "code",
   "execution_count": 22,
   "id": "temporal-general",
   "metadata": {},
   "outputs": [
    {
     "name": "stdout",
     "output_type": "stream",
     "text": [
      "              precision    recall  f1-score   support\n",
      "\n",
      "           0       0.73      0.79      0.76      2011\n",
      "           1       0.95      0.94      0.94      8855\n",
      "\n",
      "    accuracy                           0.91     10866\n",
      "   macro avg       0.84      0.86      0.85     10866\n",
      "weighted avg       0.91      0.91      0.91     10866\n",
      "\n"
     ]
    }
   ],
   "source": [
    "from sklearn.metrics import classification_report\n",
    "y_pred_balanced = model_balanced.predict(X_test_f)\n",
    "print(classification_report(y_test_f, y_pred_balanced))"
   ]
  },
  {
   "cell_type": "code",
   "execution_count": 8,
   "id": "acquired-highway",
   "metadata": {},
   "outputs": [
    {
     "name": "stdout",
     "output_type": "stream",
     "text": [
      "Random Forest Model's accuracy on training set is 100.00%\n",
      "Random Forest Model's accuracy on test set is 90.70%\n",
      "Mean ROC AUC: 0.942\n"
     ]
    }
   ],
   "source": [
    "from numpy import mean\n",
    "model = RandomForestClassifier(bootstrap = False, criterion='entropy', n_estimators=100)\n",
    "model.fit(X_train_smenn, y_train_smenn)\n",
    "# define evaluation procedure\n",
    "cv = RepeatedStratifiedKFold(n_splits=10, n_repeats=3, random_state=42)\n",
    "# evaluate model\n",
    "scores = cross_val_score(model, X_test_f, y_test_f, scoring='roc_auc', cv=cv, n_jobs=-1)\n",
    "# summarize performance\n",
    "print(f'Random Forest Model\\'s accuracy on training set is {100*model.score(X_train_smenn, y_train_smenn):.2f}%')\n",
    "print(f'Random Forest Model\\'s accuracy on test set is {100*model.score(X_test_f, y_test_f):.2f}%')\n",
    "print('Mean ROC AUC: %.3f' % mean(scores))"
   ]
  },
  {
   "cell_type": "code",
   "execution_count": 10,
   "id": "fitted-camera",
   "metadata": {},
   "outputs": [
    {
     "name": "stdout",
     "output_type": "stream",
     "text": [
      "              precision    recall  f1-score   support\n",
      "\n",
      "           0       0.71      0.83      0.77      2011\n",
      "           1       0.96      0.92      0.94      8855\n",
      "\n",
      "    accuracy                           0.91     10866\n",
      "   macro avg       0.84      0.88      0.85     10866\n",
      "weighted avg       0.91      0.91      0.91     10866\n",
      "\n"
     ]
    }
   ],
   "source": [
    "from sklearn.metrics import classification_report\n",
    "y_pred = model.predict(X_test_f)\n",
    "print(classification_report(y_test_f, y_pred))"
   ]
  },
  {
   "cell_type": "code",
   "execution_count": 11,
   "id": "marked-message",
   "metadata": {},
   "outputs": [
    {
     "name": "stdout",
     "output_type": "stream",
     "text": [
      "              precision    recall  f1-score   support\n",
      "\n",
      "           0       0.72      0.84      0.77       997\n",
      "           1       0.96      0.92      0.94      4355\n",
      "\n",
      "    accuracy                           0.91      5352\n",
      "   macro avg       0.84      0.88      0.86      5352\n",
      "weighted avg       0.92      0.91      0.91      5352\n",
      "\n"
     ]
    }
   ],
   "source": [
    "y_pred_val = model.predict(X_val)\n",
    "print(classification_report(y_val, y_pred_val))"
   ]
  },
  {
   "cell_type": "code",
   "execution_count": null,
   "id": "adverse-shuttle",
   "metadata": {},
   "outputs": [],
   "source": []
  }
 ],
 "metadata": {
  "kernelspec": {
   "display_name": "Python 3",
   "language": "python",
   "name": "python3"
  },
  "language_info": {
   "codemirror_mode": {
    "name": "ipython",
    "version": 3
   },
   "file_extension": ".py",
   "mimetype": "text/x-python",
   "name": "python",
   "nbconvert_exporter": "python",
   "pygments_lexer": "ipython3",
   "version": "3.9.2"
  }
 },
 "nbformat": 4,
 "nbformat_minor": 5
}
