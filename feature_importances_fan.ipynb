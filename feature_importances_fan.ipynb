{
 "cells": [
  {
   "cell_type": "code",
   "execution_count": 19,
   "id": "continental-telescope",
   "metadata": {},
   "outputs": [],
   "source": [
    "import numpy as np\n",
    "import pandas as pd\n",
    "import matplotlib.pyplot as plt\n",
    "from sklearn.ensemble import RandomForestRegressor"
   ]
  },
  {
   "cell_type": "code",
   "execution_count": 20,
   "id": "regular-complexity",
   "metadata": {},
   "outputs": [],
   "source": [
    "df_fan_features = pd.read_csv(\"Features/df_fan_feature.csv\")\n",
    "df_fan_target = pd.read_csv(\"Features/df_fan_target.csv\")"
   ]
  },
  {
   "cell_type": "code",
   "execution_count": 21,
   "id": "resistant-manner",
   "metadata": {},
   "outputs": [],
   "source": [
    "X = df_fan_features\n",
    "y = df_fan_target.values.ravel()"
   ]
  },
  {
   "cell_type": "code",
   "execution_count": 22,
   "id": "indirect-spray",
   "metadata": {},
   "outputs": [
    {
     "name": "stdout",
     "output_type": "stream",
     "text": [
      "Feature: 0, Score: 0.01451\n",
      "Feature: 1, Score: 0.02386\n",
      "Feature: 2, Score: 0.08391\n",
      "Feature: 3, Score: 0.05157\n",
      "Feature: 4, Score: 0.01407\n",
      "Feature: 5, Score: 0.09726\n",
      "Feature: 6, Score: 0.01804\n",
      "Feature: 7, Score: 0.07796\n",
      "Feature: 8, Score: 0.02750\n",
      "Feature: 9, Score: 0.02235\n",
      "Feature: 10, Score: 0.03661\n",
      "Feature: 11, Score: 0.03336\n",
      "Feature: 12, Score: 0.01375\n",
      "Feature: 13, Score: 0.01531\n",
      "Feature: 14, Score: 0.03506\n",
      "Feature: 15, Score: 0.01540\n",
      "Feature: 16, Score: 0.00716\n",
      "Feature: 17, Score: 0.00965\n",
      "Feature: 18, Score: 0.00933\n",
      "Feature: 19, Score: 0.09320\n",
      "Feature: 20, Score: 0.00884\n",
      "Feature: 21, Score: 0.01343\n",
      "Feature: 22, Score: 0.08746\n",
      "Feature: 23, Score: 0.08856\n",
      "Feature: 24, Score: 0.01048\n",
      "Feature: 25, Score: 0.00741\n",
      "Feature: 26, Score: 0.01398\n",
      "Feature: 27, Score: 0.03084\n",
      "Feature: 28, Score: 0.03912\n"
     ]
    },
    {
     "data": {
      "image/png": "[encoded data removed]",
      "text/plain": [
       "<Figure size 432x288 with 1 Axes>"
      ]
     },
     "metadata": {
      "needs_background": "light"
     },
     "output_type": "display_data"
    }
   ],
   "source": [
    "# define the model\n",
    "model = RandomForestRegressor()\n",
    "# fit the model\n",
    "model.fit(X, y)\n",
    "# get importance\n",
    "importance = model.feature_importances_\n",
    "# summarize feature importance\n",
    "for i,v in enumerate(importance):\n",
    "\tprint('Feature: %0d, Score: %.5f' % (i,v))\n",
    "# plot feature importance\n",
    "plt.bar([x for x in range(len(importance))], importance)\n",
    "plt.show()"
   ]
  },
  {
   "cell_type": "code",
   "execution_count": 23,
   "id": "fundamental-confidence",
   "metadata": {},
   "outputs": [],
   "source": [
    "df_important_feature_cols = df_fan_features.drop(columns = [\"0\", \"1\", \"4\", \"6\", \"12\", \"13\", \"15\", \"16\", \"17\", \"18\", \"20\", \"21\", \"24\", \"25\", \"26\"])"
   ]
  },
  {
   "cell_type": "code",
   "execution_count": 24,
   "id": "cross-coupon",
   "metadata": {},
   "outputs": [
    {
     "data": {
      "text/html": [
       "<div>\n",
       "<style scoped>\n",
       "    .dataframe tbody tr th:only-of-type {\n",
       "        vertical-align: middle;\n",
       "    }\n",
       "\n",
       "    .dataframe tbody tr th {\n",
       "        vertical-align: top;\n",
       "    }\n",
       "\n",
       "    .dataframe thead th {\n",
       "        text-align: right;\n",
       "    }\n",
       "</style>\n",
       "<table border=\"1\" class=\"dataframe\">\n",
       "  <thead>\n",
       "    <tr style=\"text-align: right;\">\n",
       "      <th></th>\n",
       "      <th>2</th>\n",
       "      <th>3</th>\n",
       "      <th>5</th>\n",
       "      <th>7</th>\n",
       "      <th>8</th>\n",
       "      <th>9</th>\n",
       "      <th>10</th>\n",
       "      <th>11</th>\n",
       "      <th>14</th>\n",
       "      <th>19</th>\n",
       "      <th>22</th>\n",
       "      <th>23</th>\n",
       "      <th>27</th>\n",
       "      <th>28</th>\n",
       "    </tr>\n",
       "  </thead>\n",
       "  <tbody>\n",
       "    <tr>\n",
       "      <th>0</th>\n",
       "      <td>0.587307</td>\n",
       "      <td>0.227931</td>\n",
       "      <td>0.454453</td>\n",
       "      <td>0.059049</td>\n",
       "      <td>-439.074188</td>\n",
       "      <td>151.212128</td>\n",
       "      <td>-20.210539</td>\n",
       "      <td>102.699867</td>\n",
       "      <td>8568.171194</td>\n",
       "      <td>0.018938</td>\n",
       "      <td>0.011630</td>\n",
       "      <td>0.009338</td>\n",
       "      <td>0.022062</td>\n",
       "      <td>0.004880</td>\n",
       "    </tr>\n",
       "    <tr>\n",
       "      <th>1</th>\n",
       "      <td>0.575122</td>\n",
       "      <td>0.233173</td>\n",
       "      <td>0.581692</td>\n",
       "      <td>0.076022</td>\n",
       "      <td>-440.888489</td>\n",
       "      <td>155.448624</td>\n",
       "      <td>-19.490046</td>\n",
       "      <td>103.491669</td>\n",
       "      <td>8305.775770</td>\n",
       "      <td>0.021426</td>\n",
       "      <td>0.013181</td>\n",
       "      <td>0.010397</td>\n",
       "      <td>0.019542</td>\n",
       "      <td>0.003963</td>\n",
       "    </tr>\n",
       "    <tr>\n",
       "      <th>2</th>\n",
       "      <td>0.583972</td>\n",
       "      <td>0.245409</td>\n",
       "      <td>0.515054</td>\n",
       "      <td>0.067214</td>\n",
       "      <td>-440.551361</td>\n",
       "      <td>152.642548</td>\n",
       "      <td>-19.862175</td>\n",
       "      <td>103.157990</td>\n",
       "      <td>8386.894369</td>\n",
       "      <td>0.020326</td>\n",
       "      <td>0.012313</td>\n",
       "      <td>0.009822</td>\n",
       "      <td>0.020863</td>\n",
       "      <td>0.004406</td>\n",
       "    </tr>\n",
       "    <tr>\n",
       "      <th>3</th>\n",
       "      <td>0.576258</td>\n",
       "      <td>0.235442</td>\n",
       "      <td>0.570727</td>\n",
       "      <td>0.074875</td>\n",
       "      <td>-448.646210</td>\n",
       "      <td>170.903778</td>\n",
       "      <td>-19.135004</td>\n",
       "      <td>106.577316</td>\n",
       "      <td>6502.227040</td>\n",
       "      <td>0.020827</td>\n",
       "      <td>0.013035</td>\n",
       "      <td>0.010333</td>\n",
       "      <td>0.015656</td>\n",
       "      <td>0.003357</td>\n",
       "    </tr>\n",
       "    <tr>\n",
       "      <th>4</th>\n",
       "      <td>0.593205</td>\n",
       "      <td>0.225728</td>\n",
       "      <td>0.491109</td>\n",
       "      <td>0.065463</td>\n",
       "      <td>-442.838745</td>\n",
       "      <td>163.274231</td>\n",
       "      <td>-19.267702</td>\n",
       "      <td>104.508247</td>\n",
       "      <td>7384.396093</td>\n",
       "      <td>0.019928</td>\n",
       "      <td>0.013747</td>\n",
       "      <td>0.009737</td>\n",
       "      <td>0.016588</td>\n",
       "      <td>0.003945</td>\n",
       "    </tr>\n",
       "  </tbody>\n",
       "</table>\n",
       "</div>"
      ],
      "text/plain": [
       "          2         3         5         7           8           9         10  \\\n",
       "0  0.587307  0.227931  0.454453  0.059049 -439.074188  151.212128 -20.210539   \n",
       "1  0.575122  0.233173  0.581692  0.076022 -440.888489  155.448624 -19.490046   \n",
       "2  0.583972  0.245409  0.515054  0.067214 -440.551361  152.642548 -19.862175   \n",
       "3  0.576258  0.235442  0.570727  0.074875 -448.646210  170.903778 -19.135004   \n",
       "4  0.593205  0.225728  0.491109  0.065463 -442.838745  163.274231 -19.267702   \n",
       "\n",
       "           11           14        19        22        23        27        28  \n",
       "0  102.699867  8568.171194  0.018938  0.011630  0.009338  0.022062  0.004880  \n",
       "1  103.491669  8305.775770  0.021426  0.013181  0.010397  0.019542  0.003963  \n",
       "2  103.157990  8386.894369  0.020326  0.012313  0.009822  0.020863  0.004406  \n",
       "3  106.577316  6502.227040  0.020827  0.013035  0.010333  0.015656  0.003357  \n",
       "4  104.508247  7384.396093  0.019928  0.013747  0.009737  0.016588  0.003945  "
      ]
     },
     "execution_count": 24,
     "metadata": {},
     "output_type": "execute_result"
    }
   ],
   "source": [
    "df_important_feature_cols.head()"
   ]
  },
  {
   "cell_type": "code",
   "execution_count": 25,
   "id": "chronic-restoration",
   "metadata": {},
   "outputs": [],
   "source": [
    "X2 = df_important_feature_cols\n",
    "y2 = df_fan_target.values.ravel()"
   ]
  },
  {
   "cell_type": "code",
   "execution_count": 26,
   "id": "quiet-documentary",
   "metadata": {},
   "outputs": [
    {
     "name": "stdout",
     "output_type": "stream",
     "text": [
      "Feature: 0, Score: 0.10069\n",
      "Feature: 1, Score: 0.06413\n",
      "Feature: 2, Score: 0.09825\n",
      "Feature: 3, Score: 0.09527\n",
      "Feature: 4, Score: 0.03402\n",
      "Feature: 5, Score: 0.03358\n",
      "Feature: 6, Score: 0.04917\n",
      "Feature: 7, Score: 0.04451\n",
      "Feature: 8, Score: 0.05944\n",
      "Feature: 9, Score: 0.11016\n",
      "Feature: 10, Score: 0.10113\n",
      "Feature: 11, Score: 0.10828\n",
      "Feature: 12, Score: 0.04694\n",
      "Feature: 13, Score: 0.05443\n"
     ]
    },
    {
     "data": {
      "image/png": "[encoded data removed]",
      "text/plain": [
       "<Figure size 432x288 with 1 Axes>"
      ]
     },
     "metadata": {
      "needs_background": "light"
     },
     "output_type": "display_data"
    }
   ],
   "source": [
    "# define the model\n",
    "model2 = RandomForestRegressor()\n",
    "# fit the model\n",
    "model2.fit(X2, y2)\n",
    "# get importance\n",
    "importance = model2.feature_importances_\n",
    "# summarize feature importance\n",
    "for i,v in enumerate(importance):\n",
    "\tprint('Feature: %0d, Score: %.5f' % (i,v))\n",
    "# plot feature importance\n",
    "plt.bar([x for x in range(len(importance))], importance)\n",
    "plt.show()"
   ]
  },
  {
   "cell_type": "code",
   "execution_count": null,
   "id": "retained-energy",
   "metadata": {},
   "outputs": [],
   "source": []
  }
 ],
 "metadata": {
  "kernelspec": {
   "display_name": "Python 3",
   "language": "python",
   "name": "python3"
  },
  "language_info": {
   "codemirror_mode": {
    "name": "ipython",
    "version": 3
   },
   "file_extension": ".py",
   "mimetype": "text/x-python",
   "name": "python",
   "nbconvert_exporter": "python",
   "pygments_lexer": "ipython3",
   "version": "3.9.2"
  }
 },
 "nbformat": 4,
 "nbformat_minor": 5
}
