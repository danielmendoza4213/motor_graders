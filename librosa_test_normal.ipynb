{
 "cells": [
  {
   "cell_type": "code",
   "execution_count": 1,
   "id": "affecting-nicaragua",
   "metadata": {},
   "outputs": [],
   "source": [
    "import numpy as np\n",
    "import pandas as pd\n",
    "import os\n",
    "import librosa\n",
    "import librosa.display\n",
    "import matplotlib.pyplot as plt"
   ]
  },
  {
   "cell_type": "code",
   "execution_count": 2,
   "id": "beginning-senate",
   "metadata": {},
   "outputs": [],
   "source": [
    "audio_path = 'C:/Users/gulce/codit_use_case/0_dB_pump/normal/normal/00000000.wav'"
   ]
  },
  {
   "cell_type": "code",
   "execution_count": 3,
   "id": "spatial-uncertainty",
   "metadata": {},
   "outputs": [
    {
     "data": {
      "text/plain": [
       "(array([-0.00828569, -0.00836229, -0.00613663, ..., -0.00380668,\n",
       "        -0.00376435, -0.00208453], dtype=float32),\n",
       " 22050)"
      ]
     },
     "execution_count": 3,
     "metadata": {},
     "output_type": "execute_result"
    }
   ],
   "source": [
    "# Load the example clip\n",
    "y, sr = librosa.load(audio_path)\n",
    "y, sr"
   ]
  },
  {
   "cell_type": "code",
   "execution_count": 4,
   "id": "descending-wright",
   "metadata": {},
   "outputs": [],
   "source": [
    "# Set the hop length; at 22050 Hz, 512 samples ~= 23ms\n",
    "hop_length = 512"
   ]
  },
  {
   "cell_type": "code",
   "execution_count": 5,
   "id": "spanish-shock",
   "metadata": {},
   "outputs": [],
   "source": [
    "# Separate harmonics and percussives into two waveforms\n",
    "y_harmonic, y_percussive = librosa.effects.hpss(y)"
   ]
  },
  {
   "cell_type": "code",
   "execution_count": 6,
   "id": "actual-audit",
   "metadata": {},
   "outputs": [
    {
     "data": {
      "text/plain": [
       "(array([-0.00648977, -0.00574145, -0.00487929, ...,  0.        ,\n",
       "         0.        ,  0.        ], dtype=float32),\n",
       " array([-0.00179592, -0.00262084, -0.00125733, ...,  0.        ,\n",
       "         0.        ,  0.        ], dtype=float32))"
      ]
     },
     "execution_count": 6,
     "metadata": {},
     "output_type": "execute_result"
    }
   ],
   "source": [
    "y_harmonic, y_percussive"
   ]
  },
  {
   "cell_type": "code",
   "execution_count": 7,
   "id": "textile-gossip",
   "metadata": {},
   "outputs": [],
   "source": [
    "# Beat track on the percussive signal\n",
    "tempo, beat_frames = librosa.beat.beat_track(y=y_percussive,\n",
    "                                             sr=sr)"
   ]
  },
  {
   "cell_type": "code",
   "execution_count": 8,
   "id": "documented-surrey",
   "metadata": {},
   "outputs": [
    {
     "data": {
      "text/plain": [
       "(112.34714673913044,\n",
       " array([  3,  23,  42,  63,  88, 108, 130, 151, 174, 196, 219, 242, 266,\n",
       "        290, 313, 336, 358, 382]))"
      ]
     },
     "execution_count": 8,
     "metadata": {},
     "output_type": "execute_result"
    }
   ],
   "source": [
    "tempo, beat_frames"
   ]
  },
  {
   "cell_type": "code",
   "execution_count": 9,
   "id": "alien-composition",
   "metadata": {},
   "outputs": [],
   "source": [
    "# Compute MFCC features from the raw signal\n",
    "mfcc = librosa.feature.mfcc(y=y, sr=sr, hop_length=hop_length, n_mfcc=13)"
   ]
  },
  {
   "cell_type": "code",
   "execution_count": 22,
   "id": "circular-karen",
   "metadata": {},
   "outputs": [
    {
     "data": {
      "text/plain": [
       "(13, 431)"
      ]
     },
     "execution_count": 22,
     "metadata": {},
     "output_type": "execute_result"
    }
   ],
   "source": [
    "mfcc.shape"
   ]
  },
  {
   "cell_type": "code",
   "execution_count": 11,
   "id": "chubby-instrument",
   "metadata": {},
   "outputs": [],
   "source": [
    "# And the first-order differences (delta features)\n",
    "mfcc_delta = librosa.feature.delta(mfcc)"
   ]
  },
  {
   "cell_type": "code",
   "execution_count": 23,
   "id": "prescribed-arrangement",
   "metadata": {},
   "outputs": [
    {
     "data": {
      "text/plain": [
       "(13, 431)"
      ]
     },
     "execution_count": 23,
     "metadata": {},
     "output_type": "execute_result"
    }
   ],
   "source": [
    "mfcc_delta.shape"
   ]
  },
  {
   "cell_type": "code",
   "execution_count": 13,
   "id": "hydraulic-parts",
   "metadata": {},
   "outputs": [],
   "source": [
    "# Stack and synchronize between beat events\n",
    "# This time, we'll use the mean value (default) instead of median\n",
    "beat_mfcc_delta = librosa.util.sync(np.vstack([mfcc, mfcc_delta]),\n",
    "                                    beat_frames)"
   ]
  },
  {
   "cell_type": "code",
   "execution_count": 24,
   "id": "joint-commonwealth",
   "metadata": {},
   "outputs": [
    {
     "data": {
      "text/plain": [
       "(26, 19)"
      ]
     },
     "execution_count": 24,
     "metadata": {},
     "output_type": "execute_result"
    }
   ],
   "source": [
    "beat_mfcc_delta.shape"
   ]
  },
  {
   "cell_type": "code",
   "execution_count": 15,
   "id": "comparative-compatibility",
   "metadata": {},
   "outputs": [],
   "source": [
    "# Compute chroma features from the harmonic signal\n",
    "chromagram = librosa.feature.chroma_cqt(y=y_harmonic,\n",
    "                                        sr=sr)"
   ]
  },
  {
   "cell_type": "code",
   "execution_count": 25,
   "id": "offshore-visiting",
   "metadata": {},
   "outputs": [
    {
     "data": {
      "text/plain": [
       "(12, 431)"
      ]
     },
     "execution_count": 25,
     "metadata": {},
     "output_type": "execute_result"
    }
   ],
   "source": [
    "chromagram.shape"
   ]
  },
  {
   "cell_type": "code",
   "execution_count": 17,
   "id": "phantom-singing",
   "metadata": {},
   "outputs": [],
   "source": [
    "# Aggregate chroma features between beat events\n",
    "# We'll use the median value of each feature between beat frames\n",
    "beat_chroma = librosa.util.sync(chromagram,\n",
    "                                beat_frames,\n",
    "                                aggregate=np.median)"
   ]
  },
  {
   "cell_type": "code",
   "execution_count": 26,
   "id": "ranging-found",
   "metadata": {},
   "outputs": [
    {
     "data": {
      "text/plain": [
       "(12, 19)"
      ]
     },
     "execution_count": 26,
     "metadata": {},
     "output_type": "execute_result"
    }
   ],
   "source": [
    "beat_chroma.shape"
   ]
  },
  {
   "cell_type": "code",
   "execution_count": 19,
   "id": "developing-pittsburgh",
   "metadata": {},
   "outputs": [],
   "source": [
    "# Finally, stack all beat-synchronous features together\n",
    "beat_features = np.vstack([beat_chroma, beat_mfcc_delta])"
   ]
  },
  {
   "cell_type": "code",
   "execution_count": 27,
   "id": "electoral-material",
   "metadata": {},
   "outputs": [
    {
     "data": {
      "text/plain": [
       "(38, 19)"
      ]
     },
     "execution_count": 27,
     "metadata": {},
     "output_type": "execute_result"
    }
   ],
   "source": [
    "beat_features.shape"
   ]
  },
  {
   "cell_type": "code",
   "execution_count": null,
   "id": "exceptional-street",
   "metadata": {},
   "outputs": [],
   "source": []
  }
 ],
 "metadata": {
  "kernelspec": {
   "display_name": "Python 3",
   "language": "python",
   "name": "python3"
  },
  "language_info": {
   "codemirror_mode": {
    "name": "ipython",
    "version": 3
   },
   "file_extension": ".py",
   "mimetype": "text/x-python",
   "name": "python",
   "nbconvert_exporter": "python",
   "pygments_lexer": "ipython3",
   "version": "3.9.2"
  }
 },
 "nbformat": 4,
 "nbformat_minor": 5
}
